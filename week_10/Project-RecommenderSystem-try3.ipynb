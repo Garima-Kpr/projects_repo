{
 "cells": [
  {
   "cell_type": "code",
   "execution_count": 1,
   "id": "4bc61735",
   "metadata": {},
   "outputs": [],
   "source": [
    "import pandas as pd\n",
    "import numpy as np\n",
    "import seaborn as sns\n",
    "import matplotlib.pyplot as plt\n",
    "from sklearn.neighbors import NearestNeighbors\n",
    "from sklearn.metrics import pairwise\n",
    "from scipy.sparse import csr_matrix\n",
    "import sklearn\n",
    "import pickle\n",
    "from sklearn.decomposition import NMF"
   ]
  },
  {
   "cell_type": "markdown",
   "id": "32a09ffe",
   "metadata": {},
   "source": [
    "## Let's collect some recommendations for a new users that loves Disney Movies!"
   ]
  },
  {
   "cell_type": "code",
   "execution_count": 2,
   "id": "140e4c8c",
   "metadata": {},
   "outputs": [],
   "source": [
    "# for calculating recommendations\n",
    "query = {\n",
    "    # movieId, rating\n",
    "    4470:5, \n",
    "    48:5,\n",
    "    594:5,\n",
    "    27619:5,\n",
    "    152081:5,\n",
    "    595:5,\n",
    "    616:5,\n",
    "    1029:5\n",
    "}\n",
    "\n",
    "\n",
    "# for testing the recommender after getting some recommendations\n",
    "relevant_items = [\n",
    "    596, 4016, 1033, 134853, \n",
    "    2018, 588, 364, 26999, 75395,2085, \n",
    "    1907, 2078, 1032, 177765   \n",
    "]"
   ]
  },
  {
   "cell_type": "code",
   "execution_count": 3,
   "id": "77ba29d6",
   "metadata": {},
   "outputs": [
    {
     "data": {
      "text/html": [
       "<div>\n",
       "<style scoped>\n",
       "    .dataframe tbody tr th:only-of-type {\n",
       "        vertical-align: middle;\n",
       "    }\n",
       "\n",
       "    .dataframe tbody tr th {\n",
       "        vertical-align: top;\n",
       "    }\n",
       "\n",
       "    .dataframe thead th {\n",
       "        text-align: right;\n",
       "    }\n",
       "</style>\n",
       "<table border=\"1\" class=\"dataframe\">\n",
       "  <thead>\n",
       "    <tr style=\"text-align: right;\">\n",
       "      <th></th>\n",
       "      <th>userId</th>\n",
       "      <th>movieId</th>\n",
       "      <th>rating</th>\n",
       "      <th>timestamp</th>\n",
       "    </tr>\n",
       "  </thead>\n",
       "  <tbody>\n",
       "    <tr>\n",
       "      <th>0</th>\n",
       "      <td>1</td>\n",
       "      <td>1</td>\n",
       "      <td>4.0</td>\n",
       "      <td>964982703</td>\n",
       "    </tr>\n",
       "    <tr>\n",
       "      <th>1</th>\n",
       "      <td>1</td>\n",
       "      <td>3</td>\n",
       "      <td>4.0</td>\n",
       "      <td>964981247</td>\n",
       "    </tr>\n",
       "    <tr>\n",
       "      <th>2</th>\n",
       "      <td>1</td>\n",
       "      <td>6</td>\n",
       "      <td>4.0</td>\n",
       "      <td>964982224</td>\n",
       "    </tr>\n",
       "    <tr>\n",
       "      <th>3</th>\n",
       "      <td>1</td>\n",
       "      <td>47</td>\n",
       "      <td>5.0</td>\n",
       "      <td>964983815</td>\n",
       "    </tr>\n",
       "    <tr>\n",
       "      <th>4</th>\n",
       "      <td>1</td>\n",
       "      <td>50</td>\n",
       "      <td>5.0</td>\n",
       "      <td>964982931</td>\n",
       "    </tr>\n",
       "  </tbody>\n",
       "</table>\n",
       "</div>"
      ],
      "text/plain": [
       "   userId  movieId  rating  timestamp\n",
       "0       1        1     4.0  964982703\n",
       "1       1        3     4.0  964981247\n",
       "2       1        6     4.0  964982224\n",
       "3       1       47     5.0  964983815\n",
       "4       1       50     5.0  964982931"
      ]
     },
     "execution_count": 3,
     "metadata": {},
     "output_type": "execute_result"
    }
   ],
   "source": [
    "ratings = pd.read_csv('/Users/RocketLinksDE/Documents/GitHub/spiced/week_10/ml-latest-small/ratings.csv')\n",
    "movies = pd.read_csv('/Users/RocketLinksDE/Documents/GitHub/spiced/week_10/ml-latest-small/movies.csv')\n",
    "ratings.head()"
   ]
  },
  {
   "cell_type": "code",
   "execution_count": 4,
   "id": "557ad3a9",
   "metadata": {},
   "outputs": [
    {
     "data": {
      "text/html": [
       "<div>\n",
       "<style scoped>\n",
       "    .dataframe tbody tr th:only-of-type {\n",
       "        vertical-align: middle;\n",
       "    }\n",
       "\n",
       "    .dataframe tbody tr th {\n",
       "        vertical-align: top;\n",
       "    }\n",
       "\n",
       "    .dataframe thead th {\n",
       "        text-align: right;\n",
       "    }\n",
       "</style>\n",
       "<table border=\"1\" class=\"dataframe\">\n",
       "  <thead>\n",
       "    <tr style=\"text-align: right;\">\n",
       "      <th></th>\n",
       "      <th>title</th>\n",
       "      <th>genres</th>\n",
       "    </tr>\n",
       "    <tr>\n",
       "      <th>movieId</th>\n",
       "      <th></th>\n",
       "      <th></th>\n",
       "    </tr>\n",
       "  </thead>\n",
       "  <tbody>\n",
       "    <tr>\n",
       "      <th>4470</th>\n",
       "      <td>Ariel (1988)</td>\n",
       "      <td>Drama</td>\n",
       "    </tr>\n",
       "    <tr>\n",
       "      <th>48</th>\n",
       "      <td>Pocahontas (1995)</td>\n",
       "      <td>Animation|Children|Drama|Musical|Romance</td>\n",
       "    </tr>\n",
       "    <tr>\n",
       "      <th>594</th>\n",
       "      <td>Snow White and the Seven Dwarfs (1937)</td>\n",
       "      <td>Animation|Children|Drama|Fantasy|Musical</td>\n",
       "    </tr>\n",
       "    <tr>\n",
       "      <th>27619</th>\n",
       "      <td>Lion King 1½, The (2004)</td>\n",
       "      <td>Adventure|Animation|Children|Comedy</td>\n",
       "    </tr>\n",
       "    <tr>\n",
       "      <th>152081</th>\n",
       "      <td>Zootopia (2016)</td>\n",
       "      <td>Action|Adventure|Animation|Children|Comedy</td>\n",
       "    </tr>\n",
       "    <tr>\n",
       "      <th>595</th>\n",
       "      <td>Beauty and the Beast (1991)</td>\n",
       "      <td>Animation|Children|Fantasy|Musical|Romance|IMAX</td>\n",
       "    </tr>\n",
       "    <tr>\n",
       "      <th>616</th>\n",
       "      <td>Aristocats, The (1970)</td>\n",
       "      <td>Animation|Children</td>\n",
       "    </tr>\n",
       "    <tr>\n",
       "      <th>1029</th>\n",
       "      <td>Dumbo (1941)</td>\n",
       "      <td>Animation|Children|Drama|Musical</td>\n",
       "    </tr>\n",
       "  </tbody>\n",
       "</table>\n",
       "</div>"
      ],
      "text/plain": [
       "                                          title  \\\n",
       "movieId                                           \n",
       "4470                               Ariel (1988)   \n",
       "48                            Pocahontas (1995)   \n",
       "594      Snow White and the Seven Dwarfs (1937)   \n",
       "27619                  Lion King 1½, The (2004)   \n",
       "152081                          Zootopia (2016)   \n",
       "595                 Beauty and the Beast (1991)   \n",
       "616                      Aristocats, The (1970)   \n",
       "1029                               Dumbo (1941)   \n",
       "\n",
       "                                                  genres  \n",
       "movieId                                                   \n",
       "4470                                               Drama  \n",
       "48              Animation|Children|Drama|Musical|Romance  \n",
       "594             Animation|Children|Drama|Fantasy|Musical  \n",
       "27619                Adventure|Animation|Children|Comedy  \n",
       "152081        Action|Adventure|Animation|Children|Comedy  \n",
       "595      Animation|Children|Fantasy|Musical|Romance|IMAX  \n",
       "616                                   Animation|Children  \n",
       "1029                    Animation|Children|Drama|Musical  "
      ]
     },
     "execution_count": 4,
     "metadata": {},
     "output_type": "execute_result"
    }
   ],
   "source": [
    "# which movies are in the query?\n",
    "movies.set_index('movieId').loc[query.keys()]"
   ]
  },
  {
   "cell_type": "markdown",
   "id": "05ec9dad",
   "metadata": {},
   "source": [
    "## 1. Model Development"
   ]
  },
  {
   "cell_type": "code",
   "execution_count": 5,
   "id": "cf944def",
   "metadata": {},
   "outputs": [
    {
     "data": {
      "text/plain": [
       "movieId\n",
       "1         215\n",
       "2         110\n",
       "3          52\n",
       "4           7\n",
       "5          49\n",
       "         ... \n",
       "193581      1\n",
       "193583      1\n",
       "193585      1\n",
       "193587      1\n",
       "193609      1\n",
       "Name: userId, Length: 9724, dtype: int64"
      ]
     },
     "execution_count": 5,
     "metadata": {},
     "output_type": "execute_result"
    }
   ],
   "source": [
    "# calculate the number of ratings per movie\n",
    "ratings_per_movie = ratings.groupby('movieId')['userId'].count()\n",
    "ratings_per_movie"
   ]
  },
  {
   "cell_type": "code",
   "execution_count": 6,
   "id": "5f8029ce",
   "metadata": {},
   "outputs": [
    {
     "data": {
      "text/plain": [
       "movieId\n",
       "1         215\n",
       "2         110\n",
       "3          52\n",
       "5          49\n",
       "6         102\n",
       "         ... \n",
       "148626     26\n",
       "152081     32\n",
       "164179     26\n",
       "166528     27\n",
       "168252     25\n",
       "Name: userId, Length: 1235, dtype: int64"
      ]
     },
     "execution_count": 6,
     "metadata": {},
     "output_type": "execute_result"
    }
   ],
   "source": [
    "## filter out movies rated by less than 20 users\n",
    "popular_movies = ratings_per_movie.loc[ratings_per_movie > 20]\n",
    "popular_movies"
   ]
  },
  {
   "cell_type": "code",
   "execution_count": 7,
   "id": "e36707a6",
   "metadata": {},
   "outputs": [],
   "source": [
    "def recommend_popular(query, ratings, k=10):\n",
    "    ratings_per_movie = ratings.groupby('movieId')['userId'].count()\n",
    "    popular_movies = ratings_per_movie.loc[ratings_per_movie > 20]\n",
    "    \n",
    "    "
   ]
  },
  {
   "cell_type": "code",
   "execution_count": 8,
   "id": "315127bc",
   "metadata": {},
   "outputs": [
    {
     "data": {
      "text/html": [
       "<div>\n",
       "<style scoped>\n",
       "    .dataframe tbody tr th:only-of-type {\n",
       "        vertical-align: middle;\n",
       "    }\n",
       "\n",
       "    .dataframe tbody tr th {\n",
       "        vertical-align: top;\n",
       "    }\n",
       "\n",
       "    .dataframe thead th {\n",
       "        text-align: right;\n",
       "    }\n",
       "</style>\n",
       "<table border=\"1\" class=\"dataframe\">\n",
       "  <thead>\n",
       "    <tr style=\"text-align: right;\">\n",
       "      <th></th>\n",
       "      <th>movieId</th>\n",
       "      <th>userId</th>\n",
       "      <th>rating</th>\n",
       "      <th>timestamp</th>\n",
       "    </tr>\n",
       "  </thead>\n",
       "  <tbody>\n",
       "    <tr>\n",
       "      <th>0</th>\n",
       "      <td>1</td>\n",
       "      <td>1</td>\n",
       "      <td>4.0</td>\n",
       "      <td>964982703</td>\n",
       "    </tr>\n",
       "    <tr>\n",
       "      <th>1</th>\n",
       "      <td>1</td>\n",
       "      <td>5</td>\n",
       "      <td>4.0</td>\n",
       "      <td>847434962</td>\n",
       "    </tr>\n",
       "    <tr>\n",
       "      <th>2</th>\n",
       "      <td>1</td>\n",
       "      <td>7</td>\n",
       "      <td>4.5</td>\n",
       "      <td>1106635946</td>\n",
       "    </tr>\n",
       "    <tr>\n",
       "      <th>3</th>\n",
       "      <td>1</td>\n",
       "      <td>15</td>\n",
       "      <td>2.5</td>\n",
       "      <td>1510577970</td>\n",
       "    </tr>\n",
       "    <tr>\n",
       "      <th>4</th>\n",
       "      <td>1</td>\n",
       "      <td>17</td>\n",
       "      <td>4.5</td>\n",
       "      <td>1305696483</td>\n",
       "    </tr>\n",
       "    <tr>\n",
       "      <th>...</th>\n",
       "      <td>...</td>\n",
       "      <td>...</td>\n",
       "      <td>...</td>\n",
       "      <td>...</td>\n",
       "    </tr>\n",
       "    <tr>\n",
       "      <th>66653</th>\n",
       "      <td>168252</td>\n",
       "      <td>567</td>\n",
       "      <td>4.0</td>\n",
       "      <td>1525283936</td>\n",
       "    </tr>\n",
       "    <tr>\n",
       "      <th>66654</th>\n",
       "      <td>168252</td>\n",
       "      <td>586</td>\n",
       "      <td>5.0</td>\n",
       "      <td>1529899336</td>\n",
       "    </tr>\n",
       "    <tr>\n",
       "      <th>66655</th>\n",
       "      <td>168252</td>\n",
       "      <td>596</td>\n",
       "      <td>5.0</td>\n",
       "      <td>1535627159</td>\n",
       "    </tr>\n",
       "    <tr>\n",
       "      <th>66656</th>\n",
       "      <td>168252</td>\n",
       "      <td>599</td>\n",
       "      <td>3.5</td>\n",
       "      <td>1498529615</td>\n",
       "    </tr>\n",
       "    <tr>\n",
       "      <th>66657</th>\n",
       "      <td>168252</td>\n",
       "      <td>610</td>\n",
       "      <td>5.0</td>\n",
       "      <td>1493846352</td>\n",
       "    </tr>\n",
       "  </tbody>\n",
       "</table>\n",
       "<p>66658 rows × 4 columns</p>\n",
       "</div>"
      ],
      "text/plain": [
       "       movieId  userId  rating   timestamp\n",
       "0            1       1     4.0   964982703\n",
       "1            1       5     4.0   847434962\n",
       "2            1       7     4.5  1106635946\n",
       "3            1      15     2.5  1510577970\n",
       "4            1      17     4.5  1305696483\n",
       "...        ...     ...     ...         ...\n",
       "66653   168252     567     4.0  1525283936\n",
       "66654   168252     586     5.0  1529899336\n",
       "66655   168252     596     5.0  1535627159\n",
       "66656   168252     599     3.5  1498529615\n",
       "66657   168252     610     5.0  1493846352\n",
       "\n",
       "[66658 rows x 4 columns]"
      ]
     },
     "execution_count": 8,
     "metadata": {},
     "output_type": "execute_result"
    }
   ],
   "source": [
    "# filter the ratings matrix and only keep the popular movies\n",
    "ratings = ratings.set_index('movieId').loc[popular_movies.index]\n",
    "ratings = ratings.reset_index()\n",
    "ratings"
   ]
  },
  {
   "cell_type": "code",
   "execution_count": 9,
   "id": "a155624c",
   "metadata": {},
   "outputs": [
    {
     "data": {
      "text/plain": [
       "<611x168253 sparse matrix of type '<class 'numpy.float64'>'\n",
       "\twith 66658 stored elements in Compressed Sparse Row format>"
      ]
     },
     "execution_count": 9,
     "metadata": {},
     "output_type": "execute_result"
    }
   ],
   "source": [
    "R = csr_matrix((ratings['rating'], (ratings['userId'], ratings['movieId'])))\n",
    "R"
   ]
  },
  {
   "cell_type": "markdown",
   "id": "afd2fe39",
   "metadata": {},
   "source": [
    "## Training\n",
    "* initialize the model\n",
    "* fit it on the user item matrix\n",
    "* optionally, tune the number of components (hidden features): what happens if you set the number of components to a  really low number?\n",
    "* decrease the tol to train for a longer time"
   ]
  },
  {
   "cell_type": "code",
   "execution_count": 10,
   "id": "3e7b3412",
   "metadata": {},
   "outputs": [],
   "source": [
    "# initialize the unsupervised model\n",
    "# 55 hidden features, F=55\n",
    "model = NMF(n_components=55, init='nndsvd', max_iter=10000, tol=0.01, verbose=2)"
   ]
  },
  {
   "cell_type": "code",
   "execution_count": 11,
   "id": "ce715664",
   "metadata": {},
   "outputs": [
    {
     "name": "stdout",
     "output_type": "stream",
     "text": [
      "violation: 1.0\n",
      "violation: 0.312688159751157\n",
      "violation: 0.18594517446677739\n",
      "violation: 0.1359703680290255\n",
      "violation: 0.10912099268744488\n",
      "violation: 0.09253770969101086\n",
      "violation: 0.08192192262335489\n",
      "violation: 0.07439645545108457\n",
      "violation: 0.0681743652603671\n",
      "violation: 0.06317237522637863\n",
      "violation: 0.05822162355908504\n",
      "violation: 0.054244956201236205\n",
      "violation: 0.05094453899605004\n",
      "violation: 0.04758270155268873\n",
      "violation: 0.044400052680260205\n",
      "violation: 0.041058344404514446\n",
      "violation: 0.03833746489223955\n",
      "violation: 0.035884135061409285\n",
      "violation: 0.03379007632612116\n",
      "violation: 0.031663441267238225\n",
      "violation: 0.029596151503196517\n",
      "violation: 0.027872135215161832\n",
      "violation: 0.026519686584410798\n",
      "violation: 0.025499170417113432\n",
      "violation: 0.024429681871017506\n",
      "violation: 0.02341154517401604\n",
      "violation: 0.02238346991032432\n",
      "violation: 0.021341784759208175\n",
      "violation: 0.020617190974163323\n",
      "violation: 0.019956716153993366\n",
      "violation: 0.019317617216910773\n",
      "violation: 0.018731963102511802\n",
      "violation: 0.018226726111070592\n",
      "violation: 0.017928664368771424\n",
      "violation: 0.017653653183788448\n",
      "violation: 0.01763480504795067\n",
      "violation: 0.017599789757112027\n",
      "violation: 0.017454458045841108\n",
      "violation: 0.01722829799274022\n",
      "violation: 0.01683236710401377\n",
      "violation: 0.016320431374568792\n",
      "violation: 0.015663207473509272\n",
      "violation: 0.014876740375141785\n",
      "violation: 0.013995951801212674\n",
      "violation: 0.013277007866457944\n",
      "violation: 0.01258082311862691\n",
      "violation: 0.01195550557129259\n",
      "violation: 0.0113908318870302\n",
      "violation: 0.01078137570746742\n",
      "violation: 0.010221425312747109\n",
      "violation: 0.009729470161702338\n",
      "Converged at iteration 52\n"
     ]
    },
    {
     "data": {
      "text/plain": [
       "NMF(init='nndsvd', max_iter=10000, n_components=55, tol=0.01, verbose=2)"
      ]
     },
     "execution_count": 11,
     "metadata": {},
     "output_type": "execute_result"
    }
   ],
   "source": [
    "# fit it to the user-item rating matrix\n",
    "model.fit(R)\n",
    "\n",
    "# initialzed P, Q matrix with random values\n",
    "# iterate and optimize the values stored in P and Q"
   ]
  },
  {
   "cell_type": "markdown",
   "id": "2aa0157a",
   "metadata": {},
   "source": [
    "### Model inspection"
   ]
  },
  {
   "cell_type": "code",
   "execution_count": 12,
   "id": "bbce0b57",
   "metadata": {},
   "outputs": [
    {
     "data": {
      "text/plain": [
       "<611x168253 sparse matrix of type '<class 'numpy.float64'>'\n",
       "\twith 66658 stored elements in Compressed Sparse Row format>"
      ]
     },
     "execution_count": 12,
     "metadata": {},
     "output_type": "execute_result"
    }
   ],
   "source": [
    "R"
   ]
  },
  {
   "cell_type": "code",
   "execution_count": 13,
   "id": "16737d61",
   "metadata": {},
   "outputs": [
    {
     "data": {
      "text/plain": [
       "<611x168253 sparse matrix of type '<class 'numpy.float64'>'\n",
       "\twith 66658 stored elements in Compressed Sparse Row format>"
      ]
     },
     "execution_count": 13,
     "metadata": {},
     "output_type": "execute_result"
    }
   ],
   "source": [
    "R"
   ]
  },
  {
   "cell_type": "markdown",
   "id": "a6980aa6",
   "metadata": {},
   "source": [
    "#### the hidden features"
   ]
  },
  {
   "cell_type": "code",
   "execution_count": 14,
   "id": "47e580f2",
   "metadata": {},
   "outputs": [
    {
     "data": {
      "text/plain": [
       "(55, 168253)"
      ]
     },
     "execution_count": 14,
     "metadata": {},
     "output_type": "execute_result"
    }
   ],
   "source": [
    "model.components_.shape"
   ]
  },
  {
   "cell_type": "code",
   "execution_count": 15,
   "id": "03fd40a0",
   "metadata": {},
   "outputs": [
    {
     "name": "stdout",
     "output_type": "stream",
     "text": [
      "violation: 1.0\n",
      "violation: 0.746415428484573\n",
      "violation: 0.27618465611007953\n",
      "violation: 0.11186081809192554\n",
      "violation: 0.05364920429907\n",
      "violation: 0.029684225769965\n",
      "violation: 0.01766177658215403\n",
      "violation: 0.011064545367471533\n",
      "violation: 0.007412201725745626\n",
      "Converged at iteration 10\n"
     ]
    },
    {
     "data": {
      "text/plain": [
       "((611, 55), (55, 168253))"
      ]
     },
     "execution_count": 15,
     "metadata": {},
     "output_type": "execute_result"
    }
   ],
   "source": [
    "# user-'genre' matrix [611x55]\n",
    "P = model.transform(R)\n",
    "\n",
    "# movie-'genre' matrix [55x168253]\n",
    "Q = model.components_\n",
    "\n",
    "P.shape, Q.shape"
   ]
  },
  {
   "cell_type": "code",
   "execution_count": 16,
   "id": "15ae7cc4",
   "metadata": {},
   "outputs": [
    {
     "data": {
      "text/plain": [
       "<1x168253 sparse matrix of type '<class 'numpy.float64'>'\n",
       "\twith 180 stored elements in Compressed Sparse Row format>"
      ]
     },
     "execution_count": 16,
     "metadata": {},
     "output_type": "execute_result"
    }
   ],
   "source": [
    "# user with id 1: sparse format\n",
    "R[1,:]"
   ]
  },
  {
   "cell_type": "code",
   "execution_count": 17,
   "id": "fec4b728",
   "metadata": {},
   "outputs": [
    {
     "data": {
      "text/plain": [
       "array([0.        , 0.40796061, 0.        , 0.        , 0.        ,\n",
       "       0.        , 0.        , 0.        , 0.        , 0.        ,\n",
       "       0.        , 0.11501499, 0.53934925, 0.        , 0.        ,\n",
       "       0.        , 0.        , 1.56947415, 0.        , 0.        ,\n",
       "       0.35082989, 0.        , 0.        , 0.        , 0.43392417,\n",
       "       0.        , 0.65230331, 0.        , 0.        , 0.        ,\n",
       "       0.        , 0.        , 0.        , 1.68878068, 0.        ,\n",
       "       0.        , 0.        , 0.        , 0.        , 0.        ,\n",
       "       0.        , 0.        , 0.        , 0.72333418, 0.        ,\n",
       "       0.        , 1.0936821 , 0.        , 0.        , 0.59283708,\n",
       "       0.        , 0.        , 0.        , 0.        , 0.        ])"
      ]
     },
     "execution_count": 17,
     "metadata": {},
     "output_type": "execute_result"
    }
   ],
   "source": [
    "# user with id 1: dense embedding\n",
    "P[1, :]"
   ]
  },
  {
   "cell_type": "code",
   "execution_count": 18,
   "id": "796c4193",
   "metadata": {},
   "outputs": [
    {
     "data": {
      "text/plain": [
       "array([0.31036501, 1.22737335, 0.73113405, 0.        , 0.34440536,\n",
       "       0.36545458, 0.        , 0.36707707, 0.        , 0.37988131,\n",
       "       1.09694117, 3.37449219, 0.64708839, 0.62159093, 0.48272676,\n",
       "       0.03273423, 0.07252813, 0.85048476, 0.        , 0.03453774,\n",
       "       0.63974333, 0.35613006, 0.51867604, 0.        , 0.        ,\n",
       "       0.64452738, 0.        , 0.25221844, 1.55345229, 0.        ,\n",
       "       0.30336938, 0.37910218, 0.10264947, 0.        , 0.39816343,\n",
       "       0.        , 0.18503625, 0.        , 0.13437929, 0.        ,\n",
       "       0.        , 0.16161771, 0.15465435, 0.32895284, 0.25427941,\n",
       "       0.29150529, 0.00696596, 0.2601212 , 0.36870314, 0.01817937,\n",
       "       0.        , 0.37738219, 0.14364054, 0.50923273, 0.        ])"
      ]
     },
     "execution_count": 18,
     "metadata": {},
     "output_type": "execute_result"
    }
   ],
   "source": [
    "# dense embedding for movie with id 1\n",
    "Q[:, 1]"
   ]
  },
  {
   "cell_type": "code",
   "execution_count": 19,
   "id": "cb7d2277",
   "metadata": {},
   "outputs": [
    {
     "name": "stdout",
     "output_type": "stream",
     "text": [
      "violation: 1.0\n",
      "violation: 0.746415428484573\n",
      "violation: 0.27618465611007953\n",
      "violation: 0.11186081809192554\n",
      "violation: 0.05364920429907\n",
      "violation: 0.029684225769965\n",
      "violation: 0.01766177658215403\n",
      "violation: 0.011064545367471533\n",
      "violation: 0.007412201725745626\n",
      "Converged at iteration 10\n"
     ]
    }
   ],
   "source": [
    "# R -> encoding -> P -> decoding -> Rhat\n",
    "R_hat = model.inverse_transform(model.transform(R))"
   ]
  },
  {
   "cell_type": "code",
   "execution_count": 20,
   "id": "fa52fc8c",
   "metadata": {},
   "outputs": [
    {
     "data": {
      "text/plain": [
       "array([[0.        , 0.        , 0.        , ..., 0.        , 0.        ,\n",
       "        0.        ],\n",
       "       [0.        , 3.05343751, 1.11304938, ..., 0.        , 0.        ,\n",
       "        0.03003791],\n",
       "       [0.        , 0.27881919, 0.01425878, ..., 0.        , 0.        ,\n",
       "        0.24490577],\n",
       "       ...,\n",
       "       [0.        , 2.35311775, 0.93905417, ..., 0.        , 0.        ,\n",
       "        0.14926988],\n",
       "       [0.        , 0.7881344 , 0.75212741, ..., 0.        , 0.        ,\n",
       "        0.02828104],\n",
       "       [0.        , 5.01541203, 1.22867506, ..., 0.        , 0.        ,\n",
       "        5.76422399]])"
      ]
     },
     "execution_count": 20,
     "metadata": {},
     "output_type": "execute_result"
    }
   ],
   "source": [
    "R_hat"
   ]
  },
  {
   "cell_type": "markdown",
   "id": "bb9eb6e7",
   "metadata": {},
   "source": [
    "#### the reconstruction error\n",
    "\n",
    "$$\n",
    "L(R, \\hat{R}) = \\sqrt{\\sum_i\\sum_j(R_{ij}-\\hat{R}_{ij})^2} = \\sqrt{\\sum_i\\sum_j(R_{ij}-PQ_{ij})^2}\n",
    "$$"
   ]
  },
  {
   "cell_type": "code",
   "execution_count": 21,
   "id": "323d70c0",
   "metadata": {},
   "outputs": [
    {
     "data": {
      "text/plain": [
       "((611, 168253), (611, 168253))"
      ]
     },
     "execution_count": 21,
     "metadata": {},
     "output_type": "execute_result"
    }
   ],
   "source": [
    "R.shape, R_hat.shape"
   ]
  },
  {
   "cell_type": "code",
   "execution_count": 22,
   "id": "ebbf0cb8",
   "metadata": {},
   "outputs": [
    {
     "data": {
      "text/plain": [
       "628.8392748632737"
      ]
     },
     "execution_count": 22,
     "metadata": {},
     "output_type": "execute_result"
    }
   ],
   "source": [
    "# reconstruction error\n",
    "np.sqrt(np.sum(np.square(R - R_hat)))"
   ]
  },
  {
   "cell_type": "code",
   "execution_count": 23,
   "id": "c8f99eb3",
   "metadata": {},
   "outputs": [
    {
     "data": {
      "text/plain": [
       "628.6986813163818"
      ]
     },
     "execution_count": 23,
     "metadata": {},
     "output_type": "execute_result"
    }
   ],
   "source": [
    "model.reconstruction_err_"
   ]
  },
  {
   "cell_type": "markdown",
   "id": "435c1bbd",
   "metadata": {},
   "source": [
    "## Model deployment: Make recommendations for a new user"
   ]
  },
  {
   "cell_type": "code",
   "execution_count": 24,
   "id": "7645e1c8",
   "metadata": {},
   "outputs": [],
   "source": [
    "with open('./nmf_recommender.pkl', 'wb') as file:\n",
    "    pickle.dump(model, file)"
   ]
  },
  {
   "cell_type": "code",
   "execution_count": 25,
   "id": "448cd486",
   "metadata": {},
   "outputs": [
    {
     "name": "stdout",
     "output_type": "stream",
     "text": [
      "\u001b[34m10_2_PCA\u001b[m\u001b[m\r\n",
      "\u001b[34m10_3_CollaborativeFilteringwithMatrixFactorization\u001b[m\u001b[m\r\n",
      "\u001b[34m10_4_ NeighborhoodbasedCollaborativeFiltering\u001b[m\u001b[m\r\n",
      "\u001b[34m10_5_Web_App\u001b[m\u001b[m\r\n",
      "\u001b[34m10_6_Clustering\u001b[m\u001b[m\r\n",
      "Complete Sentences.ipynb\r\n",
      "\u001b[34mProject\u001b[m\u001b[m\r\n",
      "Project-RecommenderSystem-try2.ipynb\r\n",
      "Project-RecommenderSystem-try3.ipynb\r\n",
      "Unsupervised learning.odp\r\n",
      "Week_10.pdf\r\n",
      "\u001b[34mdeploy_webapp_arjun\u001b[m\u001b[m\r\n",
      "exploratory_analysis_worksheet.ipynb\r\n",
      "exploratory_analysis_worksheet_solved.ipynb\r\n",
      "\u001b[34mml-latest-small\u001b[m\u001b[m\r\n",
      "nmf_recommender.pkl\r\n",
      "recommender_systems_intro.ipynb\r\n",
      "recommender_systems_intro_filled.ipynb\r\n"
     ]
    }
   ],
   "source": [
    "!ls"
   ]
  },
  {
   "cell_type": "markdown",
   "id": "00a3244e",
   "metadata": {},
   "source": [
    "### Read the model from hard drive"
   ]
  },
  {
   "cell_type": "code",
   "execution_count": 26,
   "id": "50c8f28e",
   "metadata": {},
   "outputs": [],
   "source": [
    "with open('./nmf_recommender.pkl', 'rb') as file:\n",
    "    model = pickle.load(file)"
   ]
  },
  {
   "cell_type": "code",
   "execution_count": 27,
   "id": "635cf30a",
   "metadata": {},
   "outputs": [
    {
     "data": {
      "text/plain": [
       "628.6986813163818"
      ]
     },
     "execution_count": 27,
     "metadata": {},
     "output_type": "execute_result"
    }
   ],
   "source": [
    "model.reconstruction_err_"
   ]
  },
  {
   "cell_type": "code",
   "execution_count": 28,
   "id": "c009c182",
   "metadata": {},
   "outputs": [
    {
     "data": {
      "text/plain": [
       "{4470: 5, 48: 5, 594: 5, 27619: 5, 152081: 5, 595: 5, 616: 5, 1029: 5}"
      ]
     },
     "execution_count": 28,
     "metadata": {},
     "output_type": "execute_result"
    }
   ],
   "source": [
    "query"
   ]
  },
  {
   "cell_type": "code",
   "execution_count": null,
   "id": "9d5f1031",
   "metadata": {},
   "outputs": [],
   "source": []
  },
  {
   "cell_type": "code",
   "execution_count": 29,
   "id": "64ea6e33",
   "metadata": {},
   "outputs": [
    {
     "data": {
      "text/plain": [
       "<1x168253 sparse matrix of type '<class 'numpy.int64'>'\n",
       "\twith 8 stored elements in Compressed Sparse Row format>"
      ]
     },
     "execution_count": 29,
     "metadata": {},
     "output_type": "execute_result"
    }
   ],
   "source": [
    "# construct a user vector\n",
    "\n",
    "data = list(query.values())   # the ratings of the new user\n",
    "row_ind = [0]*len(data)       # we use just a single row 0 for this user \n",
    "col_ind = list(query.keys())  # the columns (=movieId) of the ratings\n",
    "data, row_ind, col_ind\n",
    "\n",
    "user_vec = csr_matrix((data, (row_ind, col_ind)), shape=(1, R.shape[1]))\n",
    "user_vec"
   ]
  },
  {
   "cell_type": "markdown",
   "id": "fa0013dd",
   "metadata": {},
   "source": [
    "### Calculate the score\n",
    "\n",
    "1. transform the user vector to its dense representation (encoding) \n",
    "2. inverse transform the dense vector into the sparse representation (decoding)\n",
    "\n",
    "$$\n",
    "\\hat{r}_{ij} = p_i' \\cdot q_j \n",
    "$$"
   ]
  },
  {
   "cell_type": "code",
   "execution_count": 30,
   "id": "71f32e16",
   "metadata": {},
   "outputs": [
    {
     "name": "stdout",
     "output_type": "stream",
     "text": [
      "violation: 1.0\n",
      "violation: 1.3521251263037153\n",
      "violation: 0.023571104993659144\n",
      "violation: 0.0037322356319788677\n",
      "Converged at iteration 5\n"
     ]
    },
    {
     "data": {
      "text/plain": [
       "0         0.000000\n",
       "1         0.404354\n",
       "2         0.320013\n",
       "3         0.093926\n",
       "4         0.000000\n",
       "            ...   \n",
       "168248    0.000000\n",
       "168249    0.000000\n",
       "168250    0.000000\n",
       "168251    0.000000\n",
       "168252    0.027551\n",
       "Length: 168253, dtype: float64"
      ]
     },
     "execution_count": 30,
     "metadata": {},
     "output_type": "execute_result"
    }
   ],
   "source": [
    "# user_vec -> encoding -> p_user_vec -> decoding -> user_vec_hat\n",
    "\n",
    "\n",
    "scores = model.inverse_transform(model.transform(user_vec))\n",
    "\n",
    "# convert to a pandas series\n",
    "scores = pd.Series(scores[0])\n",
    "scores"
   ]
  },
  {
   "cell_type": "markdown",
   "id": "f816022d",
   "metadata": {},
   "source": [
    "## Ranking"
   ]
  },
  {
   "cell_type": "code",
   "execution_count": 31,
   "id": "6322ba08",
   "metadata": {},
   "outputs": [],
   "source": [
    "# give a zero score to movies the user has allready seen\n",
    "scores[query.keys()] = 0"
   ]
  },
  {
   "cell_type": "code",
   "execution_count": 32,
   "id": "7c679760",
   "metadata": {},
   "outputs": [
    {
     "data": {
      "text/plain": [
       "364      0.809879\n",
       "588      0.660973\n",
       "2081     0.610272\n",
       "596      0.586351\n",
       "1073     0.582943\n",
       "           ...   \n",
       "56634    0.000000\n",
       "56635    0.000000\n",
       "56636    0.000000\n",
       "56637    0.000000\n",
       "84126    0.000000\n",
       "Length: 168253, dtype: float64"
      ]
     },
     "execution_count": 32,
     "metadata": {},
     "output_type": "execute_result"
    }
   ],
   "source": [
    "# sort the scores from high to low \n",
    "scores = scores.sort_values(ascending=False)\n",
    "scores"
   ]
  },
  {
   "cell_type": "code",
   "execution_count": 33,
   "id": "15fb2353",
   "metadata": {},
   "outputs": [
    {
     "data": {
      "text/plain": [
       "Int64Index([364, 588, 2081], dtype='int64')"
      ]
     },
     "execution_count": 33,
     "metadata": {},
     "output_type": "execute_result"
    }
   ],
   "source": [
    "# get the movieIds of the top 3 entries\n",
    "recommendations = scores.head(3).index\n",
    "recommendations"
   ]
  },
  {
   "cell_type": "code",
   "execution_count": 34,
   "id": "883d48ab",
   "metadata": {},
   "outputs": [
    {
     "data": {
      "text/html": [
       "<div>\n",
       "<style scoped>\n",
       "    .dataframe tbody tr th:only-of-type {\n",
       "        vertical-align: middle;\n",
       "    }\n",
       "\n",
       "    .dataframe tbody tr th {\n",
       "        vertical-align: top;\n",
       "    }\n",
       "\n",
       "    .dataframe thead th {\n",
       "        text-align: right;\n",
       "    }\n",
       "</style>\n",
       "<table border=\"1\" class=\"dataframe\">\n",
       "  <thead>\n",
       "    <tr style=\"text-align: right;\">\n",
       "      <th></th>\n",
       "      <th>title</th>\n",
       "      <th>genres</th>\n",
       "    </tr>\n",
       "  </thead>\n",
       "  <tbody>\n",
       "    <tr>\n",
       "      <th>364</th>\n",
       "      <td>Lion King, The (1994)</td>\n",
       "      <td>Adventure|Animation|Children|Drama|Musical|IMAX</td>\n",
       "    </tr>\n",
       "    <tr>\n",
       "      <th>588</th>\n",
       "      <td>Aladdin (1992)</td>\n",
       "      <td>Adventure|Animation|Children|Comedy|Musical</td>\n",
       "    </tr>\n",
       "    <tr>\n",
       "      <th>2081</th>\n",
       "      <td>Little Mermaid, The (1989)</td>\n",
       "      <td>Animation|Children|Comedy|Musical|Romance</td>\n",
       "    </tr>\n",
       "  </tbody>\n",
       "</table>\n",
       "</div>"
      ],
      "text/plain": [
       "                           title  \\\n",
       "364        Lion King, The (1994)   \n",
       "588               Aladdin (1992)   \n",
       "2081  Little Mermaid, The (1989)   \n",
       "\n",
       "                                               genres  \n",
       "364   Adventure|Animation|Children|Drama|Musical|IMAX  \n",
       "588       Adventure|Animation|Children|Comedy|Musical  \n",
       "2081        Animation|Children|Comedy|Musical|Romance  "
      ]
     },
     "execution_count": 34,
     "metadata": {},
     "output_type": "execute_result"
    }
   ],
   "source": [
    "movies.set_index('movieId').loc[recommendations]"
   ]
  },
  {
   "cell_type": "code",
   "execution_count": null,
   "id": "e89d7b5f",
   "metadata": {},
   "outputs": [],
   "source": []
  },
  {
   "cell_type": "code",
   "execution_count": 35,
   "id": "62c21a87",
   "metadata": {},
   "outputs": [],
   "source": [
    "## Short way: Use function for all the steps of deploying model on new user"
   ]
  },
  {
   "cell_type": "code",
   "execution_count": 36,
   "id": "1bc78011",
   "metadata": {},
   "outputs": [],
   "source": [
    "# collaborative filtering = look at ratings only!\n",
    "def recommend_nmf(query, model, ratings, k=10):\n",
    "    \"\"\"\n",
    "    Filters and recommends the top k movies for any given input query based on a trained NMF model. \n",
    "    Returns a list of k movie ids.\n",
    "    \"\"\"\n",
    "    # 1. candiate generation\n",
    "\n",
    "    # construct a user vector\n",
    "    data = list(query.values())   # the ratings of the new user\n",
    "    row_ind = [0]*len(data)       # we use just a single row 0 for this user \n",
    "    col_ind = list(query.keys())  # the columns (=movieId) of the ratings\n",
    "    data, row_ind, col_ind\n",
    "\n",
    "    user_vec = csr_matrix((data, (row_ind, col_ind)), shape=(1, R.shape[1]))\n",
    "    \n",
    "   \n",
    "    # 2. scoring\n",
    "    # calculate the score with the NMF model\n",
    "    scores = model.inverse_transform(model.transform(user_vec))\n",
    "    # convert to a pandas series\n",
    "    scores = pd.Series(scores[0])\n",
    "    \n",
    "    \n",
    "    # 3. ranking\n",
    "    \n",
    "    # filter out movies allready seen by the user\n",
    "    scores[query.keys()] = 0\n",
    "    scores = scores.sort_values(ascending=False)\n",
    "    \n",
    "    # return the top-k highst rated movie ids or titles\n",
    "    recommendations = scores.head(k).index\n",
    "    movies.set_index('movieId').loc[recommendations]\n",
    "    \n",
    "    return recommendations"
   ]
  },
  {
   "cell_type": "code",
   "execution_count": 37,
   "id": "6aa2ae1e",
   "metadata": {},
   "outputs": [
    {
     "name": "stdout",
     "output_type": "stream",
     "text": [
      "violation: 1.0\n",
      "violation: 1.3521251263037153\n",
      "violation: 0.023571104993659144\n",
      "violation: 0.0037322356319788677\n",
      "Converged at iteration 5\n"
     ]
    },
    {
     "data": {
      "text/html": [
       "<div>\n",
       "<style scoped>\n",
       "    .dataframe tbody tr th:only-of-type {\n",
       "        vertical-align: middle;\n",
       "    }\n",
       "\n",
       "    .dataframe tbody tr th {\n",
       "        vertical-align: top;\n",
       "    }\n",
       "\n",
       "    .dataframe thead th {\n",
       "        text-align: right;\n",
       "    }\n",
       "</style>\n",
       "<table border=\"1\" class=\"dataframe\">\n",
       "  <thead>\n",
       "    <tr style=\"text-align: right;\">\n",
       "      <th></th>\n",
       "      <th>title</th>\n",
       "      <th>genres</th>\n",
       "    </tr>\n",
       "  </thead>\n",
       "  <tbody>\n",
       "    <tr>\n",
       "      <th>364</th>\n",
       "      <td>Lion King, The (1994)</td>\n",
       "      <td>Adventure|Animation|Children|Drama|Musical|IMAX</td>\n",
       "    </tr>\n",
       "    <tr>\n",
       "      <th>588</th>\n",
       "      <td>Aladdin (1992)</td>\n",
       "      <td>Adventure|Animation|Children|Comedy|Musical</td>\n",
       "    </tr>\n",
       "    <tr>\n",
       "      <th>2081</th>\n",
       "      <td>Little Mermaid, The (1989)</td>\n",
       "      <td>Animation|Children|Comedy|Musical|Romance</td>\n",
       "    </tr>\n",
       "  </tbody>\n",
       "</table>\n",
       "</div>"
      ],
      "text/plain": [
       "                           title  \\\n",
       "364        Lion King, The (1994)   \n",
       "588               Aladdin (1992)   \n",
       "2081  Little Mermaid, The (1989)   \n",
       "\n",
       "                                               genres  \n",
       "364   Adventure|Animation|Children|Drama|Musical|IMAX  \n",
       "588       Adventure|Animation|Children|Comedy|Musical  \n",
       "2081        Animation|Children|Comedy|Musical|Romance  "
      ]
     },
     "execution_count": 37,
     "metadata": {},
     "output_type": "execute_result"
    }
   ],
   "source": [
    "top_recommendations = recommend_nmf(query, model, ratings, k=3)\n",
    "movies.set_index('movieId').loc[top_recommendations]"
   ]
  },
  {
   "cell_type": "code",
   "execution_count": null,
   "id": "08270e13",
   "metadata": {},
   "outputs": [],
   "source": []
  },
  {
   "cell_type": "code",
   "execution_count": null,
   "id": "5b916459",
   "metadata": {},
   "outputs": [],
   "source": []
  },
  {
   "cell_type": "code",
   "execution_count": null,
   "id": "dc7e4ea4",
   "metadata": {},
   "outputs": [],
   "source": [
    "def recommend_test_nmf(movies, user_rating, model, k=5):\n",
    "    \"\"\"\n",
    "    return k random unseen movies for user \n",
    "    \"\"\"\n",
    "    \"\"\"\n",
    "    Filters and recommends the top k movies for any given input query based on a trained NMF model. \n",
    "    Returns a list of k movie ids.\n",
    "    \"\"\"\n",
    "    # 1. candiate generation\n",
    "    # construct a user vector\n",
    " \n",
    "    data = list(user_rating.values())   # the ratings of the new user\n",
    "    row_ind = [0]*len(data)       # we use just a single row 0 for this user \n",
    "    col_ind = list(user_rating.keys())  # the columns (=movieId) of the ratings\n",
    "    # R.shape[1] = 168253\n",
    "    user_vec = csr_matrix((data, (row_ind, col_ind)), shape=(1, 168253))\n",
    "   \n",
    "    # 3. scoring\n",
    "    # calculate the score with the NMF model\n",
    "    scores = model.inverse_transform(model.transform(user_vec))\n",
    "    # convert to a pandas series\n",
    "    scores = pd.Series(scores[0])\n",
    "\n",
    "    # 4. ranking\n",
    "\n",
    "    # filter out movies allready seen by the user\n",
    "    # give a zero score to movies the user has already seen\n",
    "    scores[user_rating.keys()] = 0\n",
    "    # sort the scores from high to low \n",
    "    scores = scores.sort_values(ascending=False)\n",
    "    \n",
    "    # return the top-k highst rated movie ids or titles\n",
    "    recommendations = scores.head(k).index\n",
    "    recommendations = movies.loc[recommendations]\n",
    "    return list(recommendations[\"title\"])\n",
    "\n",
    "\n",
    "\n"
   ]
  },
  {
   "cell_type": "code",
   "execution_count": null,
   "id": "5b2f1aa4",
   "metadata": {},
   "outputs": [],
   "source": [
    "movies = pd.read_csv('/Users/RocketLinksDE/Documents/GitHub/spiced/week_10/ml-latest-small/movies.csv')"
   ]
  },
  {
   "cell_type": "code",
   "execution_count": null,
   "id": "b0dc4ede",
   "metadata": {},
   "outputs": [],
   "source": []
  },
  {
   "cell_type": "code",
   "execution_count": null,
   "id": "cc52a8a8",
   "metadata": {},
   "outputs": [],
   "source": [
    "from thefuzz import process"
   ]
  },
  {
   "cell_type": "code",
   "execution_count": null,
   "id": "9b6fbea0",
   "metadata": {},
   "outputs": [],
   "source": [
    "def match_movie_title(input_title, movie_titles):\n",
    "    \"\"\"\n",
    "    Matches inputed movie title to existing one in the list with fuzzywuzzy\n",
    "    \"\"\"\n",
    "    matched_title = process.extractOne(input_title, movie_titles)[0]\n",
    "\n",
    "    return matched_title"
   ]
  },
  {
   "cell_type": "code",
   "execution_count": null,
   "id": "591adc51",
   "metadata": {},
   "outputs": [],
   "source": [
    "def lookup_movie_name(movies, user_movie_titles):\n",
    "    \"\"\"\n",
    "    Convert output of recommendation to movie id\n",
    "    \"\"\"\n",
    "    # match title to movieId\n",
    "\n",
    "    movie_titles = list(movies[\"title\"])\n",
    "    intended_movies = [match_movie_title(title, movie_titles) for title in user_movie_titles]\n",
    "    \n",
    "    movies = movies.reset_index()\n",
    "    boolean = movies[\"title\"].isin(intended_movies)\n",
    "    movie_id = list(movies[boolean][\"movieId\"])\n",
    "    return movie_id"
   ]
  },
  {
   "cell_type": "code",
   "execution_count": null,
   "id": "62e622c6",
   "metadata": {},
   "outputs": [],
   "source": []
  }
 ],
 "metadata": {
  "kernelspec": {
   "display_name": "Python 3 (ipykernel)",
   "language": "python",
   "name": "python3"
  },
  "language_info": {
   "codemirror_mode": {
    "name": "ipython",
    "version": 3
   },
   "file_extension": ".py",
   "mimetype": "text/x-python",
   "name": "python",
   "nbconvert_exporter": "python",
   "pygments_lexer": "ipython3",
   "version": "3.9.12"
  }
 },
 "nbformat": 4,
 "nbformat_minor": 5
}
