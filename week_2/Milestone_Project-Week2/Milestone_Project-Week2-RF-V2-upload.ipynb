{
 "cells": [
  {
   "cell_type": "code",
   "execution_count": 1,
   "id": "e92ba2d5",
   "metadata": {},
   "outputs": [
    {
     "name": "stderr",
     "output_type": "stream",
     "text": [
      "/home/garima/anaconda3/lib/python3.9/site-packages/scipy/__init__.py:146: UserWarning: A NumPy version >=1.16.5 and <1.23.0 is required for this version of SciPy (detected version 1.23.0\n",
      "  warnings.warn(f\"A NumPy version >={np_minversion} and <{np_maxversion}\"\n"
     ]
    }
   ],
   "source": [
    "import pandas as pd\n",
    "import matplotlib.pyplot as plt\n",
    "import imageio\n",
    "import seaborn as sns\n",
    "from sklearn.linear_model import LogisticRegression\n",
    "from sklearn.model_selection import train_test_split\n",
    "from sklearn.tree import DecisionTreeClassifier, plot_tree\n",
    "from sklearn.metrics import accuracy_score\n",
    "from sklearn.compose import make_column_transformer\n",
    "from sklearn.ensemble import RandomForestClassifier\n",
    "from sklearn.preprocessing import StandardScaler, OneHotEncoder\n",
    "from sklearn.impute import SimpleImputer\n",
    "from sklearn.compose import ColumnTransformer\n",
    "from sklearn.pipeline import Pipeline\n",
    "from sklearn.preprocessing import KBinsDiscretizer\n",
    "from sklearn.metrics import classification_report"
   ]
  },
  {
   "cell_type": "code",
   "execution_count": 2,
   "id": "0f0eb881",
   "metadata": {},
   "outputs": [
    {
     "data": {
      "text/plain": [
       "'/home/garima/Desktop/SpicedAcademy/spiced_projects/repos/random-rose-student-code/week_2/Milestone_Project-Week2'"
      ]
     },
     "execution_count": 2,
     "metadata": {},
     "output_type": "execute_result"
    }
   ],
   "source": [
    "pwd"
   ]
  },
  {
   "cell_type": "code",
   "execution_count": 3,
   "id": "7f2ce17a",
   "metadata": {},
   "outputs": [],
   "source": [
    "train_data = pd.read_csv(\"data/train.csv\",index_col= \"PassengerId\")"
   ]
  },
  {
   "cell_type": "code",
   "execution_count": 4,
   "id": "be822ab7",
   "metadata": {},
   "outputs": [
    {
     "data": {
      "text/html": [
       "<div>\n",
       "<style scoped>\n",
       "    .dataframe tbody tr th:only-of-type {\n",
       "        vertical-align: middle;\n",
       "    }\n",
       "\n",
       "    .dataframe tbody tr th {\n",
       "        vertical-align: top;\n",
       "    }\n",
       "\n",
       "    .dataframe thead th {\n",
       "        text-align: right;\n",
       "    }\n",
       "</style>\n",
       "<table border=\"1\" class=\"dataframe\">\n",
       "  <thead>\n",
       "    <tr style=\"text-align: right;\">\n",
       "      <th></th>\n",
       "      <th>Survived</th>\n",
       "      <th>Pclass</th>\n",
       "      <th>Name</th>\n",
       "      <th>Sex</th>\n",
       "      <th>Age</th>\n",
       "      <th>SibSp</th>\n",
       "      <th>Parch</th>\n",
       "      <th>Ticket</th>\n",
       "      <th>Fare</th>\n",
       "      <th>Cabin</th>\n",
       "      <th>Embarked</th>\n",
       "    </tr>\n",
       "    <tr>\n",
       "      <th>PassengerId</th>\n",
       "      <th></th>\n",
       "      <th></th>\n",
       "      <th></th>\n",
       "      <th></th>\n",
       "      <th></th>\n",
       "      <th></th>\n",
       "      <th></th>\n",
       "      <th></th>\n",
       "      <th></th>\n",
       "      <th></th>\n",
       "      <th></th>\n",
       "    </tr>\n",
       "  </thead>\n",
       "  <tbody>\n",
       "    <tr>\n",
       "      <th>1</th>\n",
       "      <td>0</td>\n",
       "      <td>3</td>\n",
       "      <td>Braund, Mr. Owen Harris</td>\n",
       "      <td>male</td>\n",
       "      <td>22.0</td>\n",
       "      <td>1</td>\n",
       "      <td>0</td>\n",
       "      <td>A/5 21171</td>\n",
       "      <td>7.2500</td>\n",
       "      <td>NaN</td>\n",
       "      <td>S</td>\n",
       "    </tr>\n",
       "    <tr>\n",
       "      <th>2</th>\n",
       "      <td>1</td>\n",
       "      <td>1</td>\n",
       "      <td>Cumings, Mrs. John Bradley (Florence Briggs Th...</td>\n",
       "      <td>female</td>\n",
       "      <td>38.0</td>\n",
       "      <td>1</td>\n",
       "      <td>0</td>\n",
       "      <td>PC 17599</td>\n",
       "      <td>71.2833</td>\n",
       "      <td>C85</td>\n",
       "      <td>C</td>\n",
       "    </tr>\n",
       "    <tr>\n",
       "      <th>3</th>\n",
       "      <td>1</td>\n",
       "      <td>3</td>\n",
       "      <td>Heikkinen, Miss. Laina</td>\n",
       "      <td>female</td>\n",
       "      <td>26.0</td>\n",
       "      <td>0</td>\n",
       "      <td>0</td>\n",
       "      <td>STON/O2. 3101282</td>\n",
       "      <td>7.9250</td>\n",
       "      <td>NaN</td>\n",
       "      <td>S</td>\n",
       "    </tr>\n",
       "    <tr>\n",
       "      <th>4</th>\n",
       "      <td>1</td>\n",
       "      <td>1</td>\n",
       "      <td>Futrelle, Mrs. Jacques Heath (Lily May Peel)</td>\n",
       "      <td>female</td>\n",
       "      <td>35.0</td>\n",
       "      <td>1</td>\n",
       "      <td>0</td>\n",
       "      <td>113803</td>\n",
       "      <td>53.1000</td>\n",
       "      <td>C123</td>\n",
       "      <td>S</td>\n",
       "    </tr>\n",
       "    <tr>\n",
       "      <th>5</th>\n",
       "      <td>0</td>\n",
       "      <td>3</td>\n",
       "      <td>Allen, Mr. William Henry</td>\n",
       "      <td>male</td>\n",
       "      <td>35.0</td>\n",
       "      <td>0</td>\n",
       "      <td>0</td>\n",
       "      <td>373450</td>\n",
       "      <td>8.0500</td>\n",
       "      <td>NaN</td>\n",
       "      <td>S</td>\n",
       "    </tr>\n",
       "  </tbody>\n",
       "</table>\n",
       "</div>"
      ],
      "text/plain": [
       "             Survived  Pclass  \\\n",
       "PassengerId                     \n",
       "1                   0       3   \n",
       "2                   1       1   \n",
       "3                   1       3   \n",
       "4                   1       1   \n",
       "5                   0       3   \n",
       "\n",
       "                                                          Name     Sex   Age  \\\n",
       "PassengerId                                                                    \n",
       "1                                      Braund, Mr. Owen Harris    male  22.0   \n",
       "2            Cumings, Mrs. John Bradley (Florence Briggs Th...  female  38.0   \n",
       "3                                       Heikkinen, Miss. Laina  female  26.0   \n",
       "4                 Futrelle, Mrs. Jacques Heath (Lily May Peel)  female  35.0   \n",
       "5                                     Allen, Mr. William Henry    male  35.0   \n",
       "\n",
       "             SibSp  Parch            Ticket     Fare Cabin Embarked  \n",
       "PassengerId                                                          \n",
       "1                1      0         A/5 21171   7.2500   NaN        S  \n",
       "2                1      0          PC 17599  71.2833   C85        C  \n",
       "3                0      0  STON/O2. 3101282   7.9250   NaN        S  \n",
       "4                1      0            113803  53.1000  C123        S  \n",
       "5                0      0            373450   8.0500   NaN        S  "
      ]
     },
     "execution_count": 4,
     "metadata": {},
     "output_type": "execute_result"
    }
   ],
   "source": [
    "train_data.head(5)"
   ]
  },
  {
   "cell_type": "code",
   "execution_count": 5,
   "id": "4d06d2a3",
   "metadata": {},
   "outputs": [],
   "source": [
    "train_df = train_data.copy()"
   ]
  },
  {
   "cell_type": "code",
   "execution_count": 6,
   "id": "eccd3345",
   "metadata": {},
   "outputs": [
    {
     "data": {
      "text/plain": [
       "Survived      0\n",
       "Pclass        0\n",
       "Name          0\n",
       "Sex           0\n",
       "Age         177\n",
       "SibSp         0\n",
       "Parch         0\n",
       "Ticket        0\n",
       "Fare          0\n",
       "Cabin       687\n",
       "Embarked      2\n",
       "dtype: int64"
      ]
     },
     "execution_count": 6,
     "metadata": {},
     "output_type": "execute_result"
    }
   ],
   "source": [
    "train_df.isna().sum()"
   ]
  },
  {
   "cell_type": "code",
   "execution_count": 7,
   "id": "c55382a8",
   "metadata": {},
   "outputs": [
    {
     "data": {
      "text/html": [
       "<div>\n",
       "<style scoped>\n",
       "    .dataframe tbody tr th:only-of-type {\n",
       "        vertical-align: middle;\n",
       "    }\n",
       "\n",
       "    .dataframe tbody tr th {\n",
       "        vertical-align: top;\n",
       "    }\n",
       "\n",
       "    .dataframe thead th {\n",
       "        text-align: right;\n",
       "    }\n",
       "</style>\n",
       "<table border=\"1\" class=\"dataframe\">\n",
       "  <thead>\n",
       "    <tr style=\"text-align: right;\">\n",
       "      <th></th>\n",
       "      <th>Survived</th>\n",
       "      <th>Pclass</th>\n",
       "      <th>Age</th>\n",
       "      <th>SibSp</th>\n",
       "      <th>Parch</th>\n",
       "      <th>Fare</th>\n",
       "    </tr>\n",
       "  </thead>\n",
       "  <tbody>\n",
       "    <tr>\n",
       "      <th>count</th>\n",
       "      <td>891.000000</td>\n",
       "      <td>891.000000</td>\n",
       "      <td>714.000000</td>\n",
       "      <td>891.000000</td>\n",
       "      <td>891.000000</td>\n",
       "      <td>891.000000</td>\n",
       "    </tr>\n",
       "    <tr>\n",
       "      <th>mean</th>\n",
       "      <td>0.383838</td>\n",
       "      <td>2.308642</td>\n",
       "      <td>29.699118</td>\n",
       "      <td>0.523008</td>\n",
       "      <td>0.381594</td>\n",
       "      <td>32.204208</td>\n",
       "    </tr>\n",
       "    <tr>\n",
       "      <th>std</th>\n",
       "      <td>0.486592</td>\n",
       "      <td>0.836071</td>\n",
       "      <td>14.526497</td>\n",
       "      <td>1.102743</td>\n",
       "      <td>0.806057</td>\n",
       "      <td>49.693429</td>\n",
       "    </tr>\n",
       "    <tr>\n",
       "      <th>min</th>\n",
       "      <td>0.000000</td>\n",
       "      <td>1.000000</td>\n",
       "      <td>0.420000</td>\n",
       "      <td>0.000000</td>\n",
       "      <td>0.000000</td>\n",
       "      <td>0.000000</td>\n",
       "    </tr>\n",
       "    <tr>\n",
       "      <th>25%</th>\n",
       "      <td>0.000000</td>\n",
       "      <td>2.000000</td>\n",
       "      <td>20.125000</td>\n",
       "      <td>0.000000</td>\n",
       "      <td>0.000000</td>\n",
       "      <td>7.910400</td>\n",
       "    </tr>\n",
       "    <tr>\n",
       "      <th>50%</th>\n",
       "      <td>0.000000</td>\n",
       "      <td>3.000000</td>\n",
       "      <td>28.000000</td>\n",
       "      <td>0.000000</td>\n",
       "      <td>0.000000</td>\n",
       "      <td>14.454200</td>\n",
       "    </tr>\n",
       "    <tr>\n",
       "      <th>75%</th>\n",
       "      <td>1.000000</td>\n",
       "      <td>3.000000</td>\n",
       "      <td>38.000000</td>\n",
       "      <td>1.000000</td>\n",
       "      <td>0.000000</td>\n",
       "      <td>31.000000</td>\n",
       "    </tr>\n",
       "    <tr>\n",
       "      <th>max</th>\n",
       "      <td>1.000000</td>\n",
       "      <td>3.000000</td>\n",
       "      <td>80.000000</td>\n",
       "      <td>8.000000</td>\n",
       "      <td>6.000000</td>\n",
       "      <td>512.329200</td>\n",
       "    </tr>\n",
       "  </tbody>\n",
       "</table>\n",
       "</div>"
      ],
      "text/plain": [
       "         Survived      Pclass         Age       SibSp       Parch        Fare\n",
       "count  891.000000  891.000000  714.000000  891.000000  891.000000  891.000000\n",
       "mean     0.383838    2.308642   29.699118    0.523008    0.381594   32.204208\n",
       "std      0.486592    0.836071   14.526497    1.102743    0.806057   49.693429\n",
       "min      0.000000    1.000000    0.420000    0.000000    0.000000    0.000000\n",
       "25%      0.000000    2.000000   20.125000    0.000000    0.000000    7.910400\n",
       "50%      0.000000    3.000000   28.000000    0.000000    0.000000   14.454200\n",
       "75%      1.000000    3.000000   38.000000    1.000000    0.000000   31.000000\n",
       "max      1.000000    3.000000   80.000000    8.000000    6.000000  512.329200"
      ]
     },
     "execution_count": 7,
     "metadata": {},
     "output_type": "execute_result"
    }
   ],
   "source": [
    "train_df.describe()"
   ]
  },
  {
   "cell_type": "markdown",
   "id": "dd904c3f",
   "metadata": {},
   "source": [
    "### Calculate the number of surviving/non-surviving passengers and display it as a bar plot."
   ]
  },
  {
   "cell_type": "code",
   "execution_count": 8,
   "id": "459d39a2",
   "metadata": {},
   "outputs": [
    {
     "data": {
      "text/plain": [
       "0    549\n",
       "1    342\n",
       "Name: Survived, dtype: int64"
      ]
     },
     "execution_count": 8,
     "metadata": {},
     "output_type": "execute_result"
    }
   ],
   "source": [
    "# number of surviving/non-surviving passengers\n",
    "train_df[\"Survived\"].value_counts()"
   ]
  },
  {
   "cell_type": "code",
   "execution_count": 9,
   "id": "274b9972",
   "metadata": {},
   "outputs": [
    {
     "data": {
      "text/plain": [
       "[Text(0, 0, 'Not survived'), Text(1, 0, 'Survived')]"
      ]
     },
     "execution_count": 9,
     "metadata": {},
     "output_type": "execute_result"
    },
    {
     "data": {
      "image/png": "[encoded data removed]",
      "text/plain": [
       "<Figure size 432x288 with 1 Axes>"
      ]
     },
     "metadata": {
      "needs_background": "light"
     },
     "output_type": "display_data"
    }
   ],
   "source": [
    "ax = train_df[\"Survived\"].value_counts().plot(kind = \"bar\", width=0.5)\n",
    "ax.set_ylim((0, 600))\n",
    "ax.set_xticklabels(['Not survived','Survived'])"
   ]
  },
  {
   "cell_type": "markdown",
   "id": "02c32cd7",
   "metadata": {},
   "source": [
    "### Calculate the proportion of surviving 1st class passengers with regards to the total number of 1st class passengers."
   ]
  },
  {
   "cell_type": "code",
   "execution_count": 10,
   "id": "0b73ed40",
   "metadata": {},
   "outputs": [
    {
     "data": {
      "text/plain": [
       "0.6296296296296297"
      ]
     },
     "execution_count": 10,
     "metadata": {},
     "output_type": "execute_result"
    }
   ],
   "source": [
    "df_survived_1class = train_df.groupby(['Pclass']).apply(lambda df: pd.Series({'Survived': df[df[\"Survived\"] == 1][\"Survived\"].count(), 'Not_survived': df[df[\"Survived\"] == 0][\"Survived\"].count()}))\n",
    "df_survived_1class['proportion_Survived'] = df_survived_1class['Survived'] / (df_survived_1class['Survived'] + df_survived_1class['Not_survived'])\n",
    "df_survived_1class.iloc[0,2]"
   ]
  },
  {
   "cell_type": "markdown",
   "id": "ed9e5b24",
   "metadata": {},
   "source": [
    "### Create a bar plot with separate bars for male/female passengers and 1st/2nd/3rd class passengers."
   ]
  },
  {
   "cell_type": "code",
   "execution_count": 11,
   "id": "828114d5",
   "metadata": {},
   "outputs": [
    {
     "data": {
      "text/plain": [
       "[Text(0.5, 0, 'Passenger class'), Text(0, 0.5, 'Number of passangers')]"
      ]
     },
     "execution_count": 11,
     "metadata": {},
     "output_type": "execute_result"
    },
    {
     "data": {
      "image/png": "[encoded data removed]",
      "text/plain": [
       "<Figure size 432x288 with 1 Axes>"
      ]
     },
     "metadata": {
      "needs_background": "light"
     },
     "output_type": "display_data"
    }
   ],
   "source": [
    "ax = sns.countplot(x = 'Pclass', hue = 'Sex' ,data = train_df)\n",
    "\n",
    "ax.set( xlabel=\"Passenger class\", ylabel=\"Number of passangers\")"
   ]
  },
  {
   "cell_type": "code",
   "execution_count": 12,
   "id": "ffccadea",
   "metadata": {},
   "outputs": [
    {
     "data": {
      "text/plain": [
       "<AxesSubplot:xlabel='Pclass'>"
      ]
     },
     "execution_count": 12,
     "metadata": {},
     "output_type": "execute_result"
    },
    {
     "data": {
      "image/png": "[encoded data removed]",
      "text/plain": [
       "<Figure size 432x288 with 1 Axes>"
      ]
     },
     "metadata": {
      "needs_background": "light"
     },
     "output_type": "display_data"
    }
   ],
   "source": [
    "train_df_group = train_df.groupby(['Pclass','Sex'])['Sex'].count().to_frame()\n",
    "train_df_group.unstack().plot(kind = 'bar')"
   ]
  },
  {
   "cell_type": "markdown",
   "id": "a9f9e4dc",
   "metadata": {},
   "source": [
    "### Create a histogram showing the age distribution of passengers. Compare surviving/non-surviving passengers."
   ]
  },
  {
   "cell_type": "code",
   "execution_count": 13,
   "id": "602b9829",
   "metadata": {},
   "outputs": [
    {
     "data": {
      "text/plain": [
       "<AxesSubplot:>"
      ]
     },
     "execution_count": 13,
     "metadata": {},
     "output_type": "execute_result"
    },
    {
     "data": {
      "image/png": "[encoded data removed]",
      "text/plain": [
       "<Figure size 432x288 with 1 Axes>"
      ]
     },
     "metadata": {
      "needs_background": "light"
     },
     "output_type": "display_data"
    }
   ],
   "source": [
    "train_df['Age'].hist(bins=20, facecolor='#ff0000',alpha=0.75,histtype='bar')"
   ]
  },
  {
   "cell_type": "code",
   "execution_count": 14,
   "id": "f3a39800",
   "metadata": {},
   "outputs": [
    {
     "data": {
      "image/png": "[encoded data removed]",
      "text/plain": [
       "<Figure size 432x288 with 1 Axes>"
      ]
     },
     "metadata": {
      "needs_background": "light"
     },
     "output_type": "display_data"
    }
   ],
   "source": [
    "ax = sns.histplot(x = 'Age', hue = 'Survived' ,data = train_df)"
   ]
  },
  {
   "cell_type": "markdown",
   "id": "a3eedae5",
   "metadata": {},
   "source": [
    "### Calculate the average age for survived and drowned passengers separately."
   ]
  },
  {
   "cell_type": "code",
   "execution_count": 15,
   "id": "edd4b216",
   "metadata": {},
   "outputs": [
    {
     "data": {
      "text/plain": [
       "Survived\n",
       "0    30.6\n",
       "1    28.3\n",
       "Name: Age, dtype: float64"
      ]
     },
     "execution_count": 15,
     "metadata": {},
     "output_type": "execute_result"
    }
   ],
   "source": [
    "round(train_df.groupby(['Survived'])[\"Age\"].agg(\"mean\"), 1)"
   ]
  },
  {
   "cell_type": "markdown",
   "id": "85cc05d0",
   "metadata": {},
   "source": [
    "### Replace missing age values by the mean age."
   ]
  },
  {
   "cell_type": "code",
   "execution_count": 16,
   "id": "9172ab19",
   "metadata": {},
   "outputs": [
    {
     "data": {
      "text/plain": [
       "177"
      ]
     },
     "execution_count": 16,
     "metadata": {},
     "output_type": "execute_result"
    }
   ],
   "source": [
    "train_df[\"Age\"].isna().sum()"
   ]
  },
  {
   "cell_type": "code",
   "execution_count": 17,
   "id": "f46cf38f",
   "metadata": {},
   "outputs": [],
   "source": [
    "train_df_modified = train_df['Age'].fillna(value = train_df['Age'].mean())"
   ]
  },
  {
   "cell_type": "code",
   "execution_count": 18,
   "id": "6a6b4959",
   "metadata": {},
   "outputs": [
    {
     "data": {
      "text/plain": [
       "PassengerId\n",
       "1      22.000000\n",
       "2      38.000000\n",
       "3      26.000000\n",
       "4      35.000000\n",
       "5      35.000000\n",
       "         ...    \n",
       "887    27.000000\n",
       "888    19.000000\n",
       "889    29.699118\n",
       "890    26.000000\n",
       "891    32.000000\n",
       "Name: Age, Length: 891, dtype: float64"
      ]
     },
     "execution_count": 18,
     "metadata": {},
     "output_type": "execute_result"
    }
   ],
   "source": [
    "train_df_modified"
   ]
  },
  {
   "cell_type": "markdown",
   "id": "d25d8c79",
   "metadata": {},
   "source": [
    "### Create a table counting the number of surviving/dead passengers separately for 1st/2nd/3rd class and male/female."
   ]
  },
  {
   "cell_type": "code",
   "execution_count": 19,
   "id": "1bd06be6",
   "metadata": {},
   "outputs": [
    {
     "data": {
      "text/html": [
       "<div>\n",
       "<style scoped>\n",
       "    .dataframe tbody tr th:only-of-type {\n",
       "        vertical-align: middle;\n",
       "    }\n",
       "\n",
       "    .dataframe tbody tr th {\n",
       "        vertical-align: top;\n",
       "    }\n",
       "\n",
       "    .dataframe thead th {\n",
       "        text-align: right;\n",
       "    }\n",
       "</style>\n",
       "<table border=\"1\" class=\"dataframe\">\n",
       "  <thead>\n",
       "    <tr style=\"text-align: right;\">\n",
       "      <th></th>\n",
       "      <th>Pclass</th>\n",
       "      <th>Sex</th>\n",
       "      <th>Survived</th>\n",
       "    </tr>\n",
       "  </thead>\n",
       "  <tbody>\n",
       "    <tr>\n",
       "      <th>0</th>\n",
       "      <td>1</td>\n",
       "      <td>female</td>\n",
       "      <td>94</td>\n",
       "    </tr>\n",
       "    <tr>\n",
       "      <th>1</th>\n",
       "      <td>1</td>\n",
       "      <td>male</td>\n",
       "      <td>122</td>\n",
       "    </tr>\n",
       "    <tr>\n",
       "      <th>2</th>\n",
       "      <td>2</td>\n",
       "      <td>female</td>\n",
       "      <td>76</td>\n",
       "    </tr>\n",
       "    <tr>\n",
       "      <th>3</th>\n",
       "      <td>2</td>\n",
       "      <td>male</td>\n",
       "      <td>108</td>\n",
       "    </tr>\n",
       "    <tr>\n",
       "      <th>4</th>\n",
       "      <td>3</td>\n",
       "      <td>female</td>\n",
       "      <td>144</td>\n",
       "    </tr>\n",
       "    <tr>\n",
       "      <th>5</th>\n",
       "      <td>3</td>\n",
       "      <td>male</td>\n",
       "      <td>347</td>\n",
       "    </tr>\n",
       "  </tbody>\n",
       "</table>\n",
       "</div>"
      ],
      "text/plain": [
       "   Pclass     Sex  Survived\n",
       "0       1  female        94\n",
       "1       1    male       122\n",
       "2       2  female        76\n",
       "3       2    male       108\n",
       "4       3  female       144\n",
       "5       3    male       347"
      ]
     },
     "execution_count": 19,
     "metadata": {},
     "output_type": "execute_result"
    }
   ],
   "source": [
    "train_df.groupby([\"Pclass\", \"Sex\"])[\"Survived\"].count().to_frame().reset_index()"
   ]
  },
  {
   "cell_type": "markdown",
   "id": "98e35cef",
   "metadata": {},
   "source": [
    "### Split the data in train and test set"
   ]
  },
  {
   "cell_type": "code",
   "execution_count": 20,
   "id": "3559d68d",
   "metadata": {},
   "outputs": [],
   "source": [
    "train_data = pd.read_csv(\"data/train.csv\",index_col= \"PassengerId\")"
   ]
  },
  {
   "cell_type": "code",
   "execution_count": 21,
   "id": "a3a62c30",
   "metadata": {},
   "outputs": [],
   "source": [
    "X = train_df.loc[:, train_df.columns != 'Survived']\n",
    "y = train_df['Survived']"
   ]
  },
  {
   "cell_type": "code",
   "execution_count": 22,
   "id": "9e94688c",
   "metadata": {},
   "outputs": [
    {
     "data": {
      "text/plain": [
       "((891, 10), (891,))"
      ]
     },
     "execution_count": 22,
     "metadata": {},
     "output_type": "execute_result"
    }
   ],
   "source": [
    "X.shape, y.shape"
   ]
  },
  {
   "cell_type": "code",
   "execution_count": 23,
   "id": "c688ffeb",
   "metadata": {},
   "outputs": [],
   "source": [
    "# Create training and validation sets\n",
    "X_train, X_test, y_train, y_test = train_test_split(X, y, test_size=0.25, random_state=42)"
   ]
  },
  {
   "cell_type": "code",
   "execution_count": 24,
   "id": "0a28f313",
   "metadata": {},
   "outputs": [
    {
     "data": {
      "text/plain": [
       "((668, 10), (668,))"
      ]
     },
     "execution_count": 24,
     "metadata": {},
     "output_type": "execute_result"
    }
   ],
   "source": [
    "X_train.shape, y_train.shape"
   ]
  },
  {
   "cell_type": "markdown",
   "id": "53a841fa",
   "metadata": {},
   "source": [
    "### Feature Engineer categorical columns to numeric before train test split for random forest"
   ]
  },
  {
   "cell_type": "markdown",
   "id": "3daa2aa2",
   "metadata": {},
   "source": [
    "#### Remove redundant features"
   ]
  },
  {
   "cell_type": "code",
   "execution_count": 25,
   "id": "76ad5b37",
   "metadata": {},
   "outputs": [],
   "source": [
    "# remove Ticket and cabin column\n",
    "X_train.drop(['Ticket', 'Cabin','Fare'], axis=1,inplace = True)\n",
    "# test dataset\n",
    "X_test.drop(['Ticket', 'Cabin','Fare'], axis=1,inplace = True)"
   ]
  },
  {
   "cell_type": "code",
   "execution_count": 26,
   "id": "186d2ca3",
   "metadata": {},
   "outputs": [
    {
     "data": {
      "text/html": [
       "<div>\n",
       "<style scoped>\n",
       "    .dataframe tbody tr th:only-of-type {\n",
       "        vertical-align: middle;\n",
       "    }\n",
       "\n",
       "    .dataframe tbody tr th {\n",
       "        vertical-align: top;\n",
       "    }\n",
       "\n",
       "    .dataframe thead th {\n",
       "        text-align: right;\n",
       "    }\n",
       "</style>\n",
       "<table border=\"1\" class=\"dataframe\">\n",
       "  <thead>\n",
       "    <tr style=\"text-align: right;\">\n",
       "      <th></th>\n",
       "      <th>Pclass</th>\n",
       "      <th>Name</th>\n",
       "      <th>Sex</th>\n",
       "      <th>Age</th>\n",
       "      <th>SibSp</th>\n",
       "      <th>Parch</th>\n",
       "      <th>Embarked</th>\n",
       "    </tr>\n",
       "    <tr>\n",
       "      <th>PassengerId</th>\n",
       "      <th></th>\n",
       "      <th></th>\n",
       "      <th></th>\n",
       "      <th></th>\n",
       "      <th></th>\n",
       "      <th></th>\n",
       "      <th></th>\n",
       "    </tr>\n",
       "  </thead>\n",
       "  <tbody>\n",
       "    <tr>\n",
       "      <th>299</th>\n",
       "      <td>1</td>\n",
       "      <td>Saalfeld, Mr. Adolphe</td>\n",
       "      <td>male</td>\n",
       "      <td>NaN</td>\n",
       "      <td>0</td>\n",
       "      <td>0</td>\n",
       "      <td>S</td>\n",
       "    </tr>\n",
       "    <tr>\n",
       "      <th>885</th>\n",
       "      <td>3</td>\n",
       "      <td>Sutehall, Mr. Henry Jr</td>\n",
       "      <td>male</td>\n",
       "      <td>25.00</td>\n",
       "      <td>0</td>\n",
       "      <td>0</td>\n",
       "      <td>S</td>\n",
       "    </tr>\n",
       "    <tr>\n",
       "      <th>248</th>\n",
       "      <td>2</td>\n",
       "      <td>Hamalainen, Mrs. William (Anna)</td>\n",
       "      <td>female</td>\n",
       "      <td>24.00</td>\n",
       "      <td>0</td>\n",
       "      <td>2</td>\n",
       "      <td>S</td>\n",
       "    </tr>\n",
       "    <tr>\n",
       "      <th>479</th>\n",
       "      <td>3</td>\n",
       "      <td>Karlsson, Mr. Nils August</td>\n",
       "      <td>male</td>\n",
       "      <td>22.00</td>\n",
       "      <td>0</td>\n",
       "      <td>0</td>\n",
       "      <td>S</td>\n",
       "    </tr>\n",
       "    <tr>\n",
       "      <th>306</th>\n",
       "      <td>1</td>\n",
       "      <td>Allison, Master. Hudson Trevor</td>\n",
       "      <td>male</td>\n",
       "      <td>0.92</td>\n",
       "      <td>1</td>\n",
       "      <td>2</td>\n",
       "      <td>S</td>\n",
       "    </tr>\n",
       "    <tr>\n",
       "      <th>...</th>\n",
       "      <td>...</td>\n",
       "      <td>...</td>\n",
       "      <td>...</td>\n",
       "      <td>...</td>\n",
       "      <td>...</td>\n",
       "      <td>...</td>\n",
       "      <td>...</td>\n",
       "    </tr>\n",
       "    <tr>\n",
       "      <th>107</th>\n",
       "      <td>3</td>\n",
       "      <td>Salkjelsvik, Miss. Anna Kristine</td>\n",
       "      <td>female</td>\n",
       "      <td>21.00</td>\n",
       "      <td>0</td>\n",
       "      <td>0</td>\n",
       "      <td>S</td>\n",
       "    </tr>\n",
       "    <tr>\n",
       "      <th>271</th>\n",
       "      <td>1</td>\n",
       "      <td>Cairns, Mr. Alexander</td>\n",
       "      <td>male</td>\n",
       "      <td>NaN</td>\n",
       "      <td>0</td>\n",
       "      <td>0</td>\n",
       "      <td>S</td>\n",
       "    </tr>\n",
       "    <tr>\n",
       "      <th>861</th>\n",
       "      <td>3</td>\n",
       "      <td>Hansen, Mr. Claus Peter</td>\n",
       "      <td>male</td>\n",
       "      <td>41.00</td>\n",
       "      <td>2</td>\n",
       "      <td>0</td>\n",
       "      <td>S</td>\n",
       "    </tr>\n",
       "    <tr>\n",
       "      <th>436</th>\n",
       "      <td>1</td>\n",
       "      <td>Carter, Miss. Lucile Polk</td>\n",
       "      <td>female</td>\n",
       "      <td>14.00</td>\n",
       "      <td>1</td>\n",
       "      <td>2</td>\n",
       "      <td>S</td>\n",
       "    </tr>\n",
       "    <tr>\n",
       "      <th>103</th>\n",
       "      <td>1</td>\n",
       "      <td>White, Mr. Richard Frasar</td>\n",
       "      <td>male</td>\n",
       "      <td>21.00</td>\n",
       "      <td>0</td>\n",
       "      <td>1</td>\n",
       "      <td>S</td>\n",
       "    </tr>\n",
       "  </tbody>\n",
       "</table>\n",
       "<p>668 rows × 7 columns</p>\n",
       "</div>"
      ],
      "text/plain": [
       "             Pclass                              Name     Sex    Age  SibSp  \\\n",
       "PassengerId                                                                   \n",
       "299               1             Saalfeld, Mr. Adolphe    male    NaN      0   \n",
       "885               3            Sutehall, Mr. Henry Jr    male  25.00      0   \n",
       "248               2   Hamalainen, Mrs. William (Anna)  female  24.00      0   \n",
       "479               3         Karlsson, Mr. Nils August    male  22.00      0   \n",
       "306               1    Allison, Master. Hudson Trevor    male   0.92      1   \n",
       "...             ...                               ...     ...    ...    ...   \n",
       "107               3  Salkjelsvik, Miss. Anna Kristine  female  21.00      0   \n",
       "271               1             Cairns, Mr. Alexander    male    NaN      0   \n",
       "861               3           Hansen, Mr. Claus Peter    male  41.00      2   \n",
       "436               1         Carter, Miss. Lucile Polk  female  14.00      1   \n",
       "103               1         White, Mr. Richard Frasar    male  21.00      0   \n",
       "\n",
       "             Parch Embarked  \n",
       "PassengerId                  \n",
       "299              0        S  \n",
       "885              0        S  \n",
       "248              2        S  \n",
       "479              0        S  \n",
       "306              2        S  \n",
       "...            ...      ...  \n",
       "107              0        S  \n",
       "271              0        S  \n",
       "861              0        S  \n",
       "436              2        S  \n",
       "103              1        S  \n",
       "\n",
       "[668 rows x 7 columns]"
      ]
     },
     "execution_count": 26,
     "metadata": {},
     "output_type": "execute_result"
    }
   ],
   "source": [
    "X_train"
   ]
  },
  {
   "cell_type": "markdown",
   "id": "91f0c13d",
   "metadata": {},
   "source": [
    "#### create a column with titles and remove the column with names"
   ]
  },
  {
   "cell_type": "code",
   "execution_count": 27,
   "id": "a6e4d4da",
   "metadata": {},
   "outputs": [],
   "source": [
    "# getting passenger title from the name column of dataframe"
   ]
  },
  {
   "cell_type": "code",
   "execution_count": 28,
   "id": "39888a05",
   "metadata": {},
   "outputs": [],
   "source": [
    "def passenger_title(name):\n",
    "\n",
    "        title = name.split(\".\")[0].split(\", \")[1]\n",
    "        \n",
    "        return title"
   ]
  },
  {
   "cell_type": "code",
   "execution_count": 29,
   "id": "11d81b21",
   "metadata": {},
   "outputs": [],
   "source": [
    "X_train[\"Title\"] = X_train[\"Name\"].apply(passenger_title)\n",
    "X_train.drop(['Name'], axis=1, inplace = True)"
   ]
  },
  {
   "cell_type": "code",
   "execution_count": 30,
   "id": "c11e0b72",
   "metadata": {
    "scrolled": true
   },
   "outputs": [],
   "source": [
    "X_test[\"Title\"] = X_test[\"Name\"].apply(passenger_title)\n",
    "X_test.drop(['Name'], axis=1, inplace = True)"
   ]
  },
  {
   "cell_type": "code",
   "execution_count": 31,
   "id": "3a46daba",
   "metadata": {},
   "outputs": [],
   "source": [
    "# fill missing values using mean age of each title eg: Master\n",
    "X_train['Age'] = X_train['Age'].fillna(X_train.groupby('Title')['Age'].transform('mean'))\n",
    "\n",
    "#test set\n",
    "X_test['Age'] = X_test['Age'].fillna(X_test.groupby('Title')['Age'].transform('mean'))"
   ]
  },
  {
   "cell_type": "code",
   "execution_count": 32,
   "id": "5aefc141",
   "metadata": {},
   "outputs": [],
   "source": [
    "# drop \"Title column after filling the missing values of age with mean of each group\"\n",
    "X_train.drop(['Title'], axis=1, inplace = True)\n",
    "X_test.drop(['Title'], axis=1, inplace = True)"
   ]
  },
  {
   "cell_type": "code",
   "execution_count": 33,
   "id": "21590f7c",
   "metadata": {},
   "outputs": [],
   "source": [
    "# combine 2 features: Parch and SibSp to a new feature Family\n",
    "X_train[\"Family\"] = X_train[\"Parch\"] + X_train[\"SibSp\"]\n",
    "#test set\n",
    "X_test[\"Family\"] = X_test[\"Parch\"] + X_test[\"SibSp\"]"
   ]
  },
  {
   "cell_type": "code",
   "execution_count": 34,
   "id": "81d019d9",
   "metadata": {},
   "outputs": [],
   "source": [
    "# drop the redundant features\n",
    "\n",
    "X_train = X_train.drop([\"SibSp\",\"Parch\"], axis=1)\n",
    "X_test = X_test.drop([\"SibSp\",\"Parch\"], axis=1)"
   ]
  },
  {
   "cell_type": "code",
   "execution_count": 35,
   "id": "cddf32eb",
   "metadata": {},
   "outputs": [
    {
     "data": {
      "text/plain": [
       "0     406\n",
       "1     117\n",
       "2      73\n",
       "3      25\n",
       "5      17\n",
       "4       9\n",
       "6       8\n",
       "10      7\n",
       "7       6\n",
       "Name: Family, dtype: int64"
      ]
     },
     "execution_count": 35,
     "metadata": {},
     "output_type": "execute_result"
    }
   ],
   "source": [
    "X_train[\"Family\"].value_counts()"
   ]
  },
  {
   "cell_type": "code",
   "execution_count": 36,
   "id": "c3a92a8b",
   "metadata": {},
   "outputs": [],
   "source": [
    "# list of categorical features\n",
    "categorical_feature_mask = X_train.columns[X_train.dtypes==object].tolist()\n",
    "\n",
    "# list of categorical features\n",
    "numeric_feature_mask = X_train.columns[X_train.dtypes!=object].tolist()"
   ]
  },
  {
   "cell_type": "code",
   "execution_count": 37,
   "id": "e3c503ce",
   "metadata": {},
   "outputs": [
    {
     "data": {
      "text/plain": [
       "['Pclass', 'Age', 'Family']"
      ]
     },
     "execution_count": 37,
     "metadata": {},
     "output_type": "execute_result"
    }
   ],
   "source": [
    "numeric_feature_mask"
   ]
  },
  {
   "cell_type": "code",
   "execution_count": 38,
   "id": "bdde44ed",
   "metadata": {},
   "outputs": [],
   "source": [
    "# transform categorical feature\n",
    "categorical_steps = [\n",
    "    (\"imputer\", SimpleImputer(strategy='most_frequent')),\n",
    "    (\"encoder\", OneHotEncoder(handle_unknown=\"ignore\", sparse=False))]\n",
    "\n",
    "categorical_transformer = Pipeline(categorical_steps)"
   ]
  },
  {
   "cell_type": "code",
   "execution_count": 39,
   "id": "d78aa8f2",
   "metadata": {},
   "outputs": [],
   "source": [
    "# transform Family feature\n",
    "pipeline_family = Pipeline(\n",
    "[\n",
    "    (\"binning\", KBinsDiscretizer(n_bins=8, encode='onehot-dense', strategy='uniform'))\n",
    "\n",
    "])\n"
   ]
  },
  {
   "cell_type": "code",
   "execution_count": 40,
   "id": "c308fe31",
   "metadata": {},
   "outputs": [],
   "source": [
    "# method 2\n",
    "transformation = ColumnTransformer(\n",
    "    [\n",
    "        (\"transform twice imputer_encoder\", categorical_transformer, categorical_feature_mask),\n",
    "        (\"encoder\", OneHotEncoder(handle_unknown=\"ignore\", sparse=False, drop=\"if_binary\"), [\"Sex\"]),\n",
    "        (\"binning\", KBinsDiscretizer(n_bins=3, encode='onehot-dense', strategy='uniform'), [\"Pclass\"]),\n",
    "        (\"binning only\", pipeline_family, ['Family']),\n",
    "    ]\n",
    ")  "
   ]
  },
  {
   "cell_type": "code",
   "execution_count": null,
   "id": "049b6bbf",
   "metadata": {},
   "outputs": [],
   "source": []
  },
  {
   "cell_type": "code",
   "execution_count": 41,
   "id": "fca44f1b",
   "metadata": {},
   "outputs": [],
   "source": [
    "X_train_FE = transformation.fit_transform(X_train)"
   ]
  },
  {
   "cell_type": "code",
   "execution_count": 42,
   "id": "372ea112",
   "metadata": {},
   "outputs": [],
   "source": [
    "X_test_FE = transformation.transform(X_test)"
   ]
  },
  {
   "cell_type": "code",
   "execution_count": 43,
   "id": "e84176de",
   "metadata": {},
   "outputs": [],
   "source": [
    "#X_train_FE = pd.DataFrame(X_train_FE, columns = transformation.get_feature_names_out())"
   ]
  },
  {
   "cell_type": "code",
   "execution_count": 44,
   "id": "afbfba17",
   "metadata": {},
   "outputs": [
    {
     "data": {
      "text/plain": [
       "array([[0., 1., 0., ..., 0., 0., 0.],\n",
       "       [0., 1., 0., ..., 0., 0., 0.],\n",
       "       [1., 0., 0., ..., 0., 0., 0.],\n",
       "       ...,\n",
       "       [0., 1., 0., ..., 0., 0., 0.],\n",
       "       [1., 0., 0., ..., 0., 0., 0.],\n",
       "       [0., 1., 0., ..., 0., 0., 0.]])"
      ]
     },
     "execution_count": 44,
     "metadata": {},
     "output_type": "execute_result"
    }
   ],
   "source": [
    "X_train_FE"
   ]
  },
  {
   "cell_type": "code",
   "execution_count": 45,
   "id": "63e1ecf4",
   "metadata": {},
   "outputs": [
    {
     "data": {
      "text/plain": [
       "numpy.ndarray"
      ]
     },
     "execution_count": 45,
     "metadata": {},
     "output_type": "execute_result"
    }
   ],
   "source": [
    "type(X_train_FE)"
   ]
  },
  {
   "cell_type": "markdown",
   "id": "b2865e2e",
   "metadata": {},
   "source": [
    "### Build a model"
   ]
  },
  {
   "cell_type": "code",
   "execution_count": 46,
   "id": "7570665b",
   "metadata": {
    "scrolled": false
   },
   "outputs": [
    {
     "data": {
      "text/html": [
       "<div>\n",
       "<style scoped>\n",
       "    .dataframe tbody tr th:only-of-type {\n",
       "        vertical-align: middle;\n",
       "    }\n",
       "\n",
       "    .dataframe tbody tr th {\n",
       "        vertical-align: top;\n",
       "    }\n",
       "\n",
       "    .dataframe thead th {\n",
       "        text-align: right;\n",
       "    }\n",
       "</style>\n",
       "<table border=\"1\" class=\"dataframe\">\n",
       "  <thead>\n",
       "    <tr style=\"text-align: right;\">\n",
       "      <th></th>\n",
       "      <th>Pclass</th>\n",
       "      <th>Sex</th>\n",
       "      <th>Age</th>\n",
       "      <th>Embarked</th>\n",
       "      <th>Family</th>\n",
       "    </tr>\n",
       "    <tr>\n",
       "      <th>PassengerId</th>\n",
       "      <th></th>\n",
       "      <th></th>\n",
       "      <th></th>\n",
       "      <th></th>\n",
       "      <th></th>\n",
       "    </tr>\n",
       "  </thead>\n",
       "  <tbody>\n",
       "    <tr>\n",
       "      <th>299</th>\n",
       "      <td>1</td>\n",
       "      <td>male</td>\n",
       "      <td>32.188333</td>\n",
       "      <td>S</td>\n",
       "      <td>0</td>\n",
       "    </tr>\n",
       "    <tr>\n",
       "      <th>885</th>\n",
       "      <td>3</td>\n",
       "      <td>male</td>\n",
       "      <td>25.000000</td>\n",
       "      <td>S</td>\n",
       "      <td>0</td>\n",
       "    </tr>\n",
       "    <tr>\n",
       "      <th>248</th>\n",
       "      <td>2</td>\n",
       "      <td>female</td>\n",
       "      <td>24.000000</td>\n",
       "      <td>S</td>\n",
       "      <td>2</td>\n",
       "    </tr>\n",
       "    <tr>\n",
       "      <th>479</th>\n",
       "      <td>3</td>\n",
       "      <td>male</td>\n",
       "      <td>22.000000</td>\n",
       "      <td>S</td>\n",
       "      <td>0</td>\n",
       "    </tr>\n",
       "    <tr>\n",
       "      <th>306</th>\n",
       "      <td>1</td>\n",
       "      <td>male</td>\n",
       "      <td>0.920000</td>\n",
       "      <td>S</td>\n",
       "      <td>3</td>\n",
       "    </tr>\n",
       "    <tr>\n",
       "      <th>...</th>\n",
       "      <td>...</td>\n",
       "      <td>...</td>\n",
       "      <td>...</td>\n",
       "      <td>...</td>\n",
       "      <td>...</td>\n",
       "    </tr>\n",
       "    <tr>\n",
       "      <th>107</th>\n",
       "      <td>3</td>\n",
       "      <td>female</td>\n",
       "      <td>21.000000</td>\n",
       "      <td>S</td>\n",
       "      <td>0</td>\n",
       "    </tr>\n",
       "    <tr>\n",
       "      <th>271</th>\n",
       "      <td>1</td>\n",
       "      <td>male</td>\n",
       "      <td>32.188333</td>\n",
       "      <td>S</td>\n",
       "      <td>0</td>\n",
       "    </tr>\n",
       "    <tr>\n",
       "      <th>861</th>\n",
       "      <td>3</td>\n",
       "      <td>male</td>\n",
       "      <td>41.000000</td>\n",
       "      <td>S</td>\n",
       "      <td>2</td>\n",
       "    </tr>\n",
       "    <tr>\n",
       "      <th>436</th>\n",
       "      <td>1</td>\n",
       "      <td>female</td>\n",
       "      <td>14.000000</td>\n",
       "      <td>S</td>\n",
       "      <td>3</td>\n",
       "    </tr>\n",
       "    <tr>\n",
       "      <th>103</th>\n",
       "      <td>1</td>\n",
       "      <td>male</td>\n",
       "      <td>21.000000</td>\n",
       "      <td>S</td>\n",
       "      <td>1</td>\n",
       "    </tr>\n",
       "  </tbody>\n",
       "</table>\n",
       "<p>668 rows × 5 columns</p>\n",
       "</div>"
      ],
      "text/plain": [
       "             Pclass     Sex        Age Embarked  Family\n",
       "PassengerId                                            \n",
       "299               1    male  32.188333        S       0\n",
       "885               3    male  25.000000        S       0\n",
       "248               2  female  24.000000        S       2\n",
       "479               3    male  22.000000        S       0\n",
       "306               1    male   0.920000        S       3\n",
       "...             ...     ...        ...      ...     ...\n",
       "107               3  female  21.000000        S       0\n",
       "271               1    male  32.188333        S       0\n",
       "861               3    male  41.000000        S       2\n",
       "436               1  female  14.000000        S       3\n",
       "103               1    male  21.000000        S       1\n",
       "\n",
       "[668 rows x 5 columns]"
      ]
     },
     "execution_count": 46,
     "metadata": {},
     "output_type": "execute_result"
    }
   ],
   "source": [
    "X_train"
   ]
  },
  {
   "cell_type": "code",
   "execution_count": 47,
   "id": "da899acb",
   "metadata": {},
   "outputs": [],
   "source": [
    "# instatiate the model\n",
    "rf = RandomForestClassifier(n_estimators=300, max_depth=10)"
   ]
  },
  {
   "cell_type": "code",
   "execution_count": 48,
   "id": "df14adfb",
   "metadata": {},
   "outputs": [
    {
     "data": {
      "text/plain": [
       "RandomForestClassifier(max_depth=10, n_estimators=300)"
      ]
     },
     "execution_count": 48,
     "metadata": {},
     "output_type": "execute_result"
    }
   ],
   "source": [
    "rf.fit(X_train_FE, y_train)"
   ]
  },
  {
   "cell_type": "code",
   "execution_count": 49,
   "id": "2f6a4d2f",
   "metadata": {},
   "outputs": [
    {
     "data": {
      "text/plain": [
       "array([0, 0, 0, 1, 1, 1, 1, 0, 1, 1, 0, 0, 0, 0, 0, 1, 0, 1, 0, 0, 0, 0,\n",
       "       0, 0, 0, 0, 0, 0, 0, 0, 0, 0, 0, 0, 0, 0, 0, 1, 1, 0, 0, 0, 0, 0,\n",
       "       1, 0, 0, 0, 0, 1, 1, 1, 0, 1, 0, 1, 0, 1, 1, 1, 0, 1, 1, 0, 0, 1,\n",
       "       0, 0, 0, 1, 1, 1, 0, 1, 0, 0, 1, 1, 1, 1, 0, 1, 1, 0, 0, 0, 1, 1,\n",
       "       0, 0, 0, 0, 0, 0, 0, 0, 0, 0, 1, 0, 0, 0, 1, 0, 0, 0, 1, 0, 0, 0,\n",
       "       1, 0, 1, 0, 0, 0, 0, 0, 1, 0, 0, 1, 1, 0, 0, 0, 1, 0, 1, 0, 1, 0,\n",
       "       0, 0, 0, 1, 1, 0, 0, 0, 0, 1, 0, 0, 0, 1, 0, 0, 1, 0, 0, 0, 0, 1,\n",
       "       0, 0, 0, 1, 1, 1, 0, 0, 0, 1, 0, 0, 0, 1, 0, 0, 0, 1, 0, 1, 0, 0,\n",
       "       0, 1, 1, 0, 0, 0, 0, 0, 0, 0, 0, 0, 0, 1, 0, 0, 0, 0, 1, 1, 1, 0,\n",
       "       1, 0, 0, 0, 1, 0, 0, 1, 0, 1, 0, 0, 1, 0, 1, 0, 0, 0, 1, 0, 1, 0,\n",
       "       0, 1, 0])"
      ]
     },
     "execution_count": 49,
     "metadata": {},
     "output_type": "execute_result"
    }
   ],
   "source": [
    "rf.predict(X_test_FE)"
   ]
  },
  {
   "cell_type": "code",
   "execution_count": 50,
   "id": "b3d55e82",
   "metadata": {},
   "outputs": [
    {
     "data": {
      "text/plain": [
       "0.8188622754491018"
      ]
     },
     "execution_count": 50,
     "metadata": {},
     "output_type": "execute_result"
    }
   ],
   "source": [
    "rf.score(X_train_FE, y_train) "
   ]
  },
  {
   "cell_type": "code",
   "execution_count": 51,
   "id": "d7e59115",
   "metadata": {},
   "outputs": [
    {
     "data": {
      "text/plain": [
       "0.8116591928251121"
      ]
     },
     "execution_count": 51,
     "metadata": {},
     "output_type": "execute_result"
    }
   ],
   "source": [
    "rf.score(X_test_FE, y_test) "
   ]
  },
  {
   "cell_type": "code",
   "execution_count": 52,
   "id": "50b3c577",
   "metadata": {},
   "outputs": [],
   "source": [
    "importance=rf.feature_importances_"
   ]
  },
  {
   "cell_type": "code",
   "execution_count": 53,
   "id": "a992864a",
   "metadata": {},
   "outputs": [
    {
     "data": {
      "text/plain": [
       "[(0.18196915411863582, 'Pclass'),\n",
       " (0.1940490354663926, 'Sex'),\n",
       " (0.023731568064199703, 'Age'),\n",
       " (0.01530251399279422, 'Embarked'),\n",
       " (0.026075321200756434, 'Family')]"
      ]
     },
     "execution_count": 53,
     "metadata": {},
     "output_type": "execute_result"
    }
   ],
   "source": [
    "list(zip(importance, X_train.columns))"
   ]
  },
  {
   "cell_type": "code",
   "execution_count": null,
   "id": "c0ab5833",
   "metadata": {},
   "outputs": [],
   "source": []
  },
  {
   "cell_type": "code",
   "execution_count": 54,
   "id": "b8a0d3ca",
   "metadata": {},
   "outputs": [
    {
     "data": {
      "text/plain": [
       "'/home/garima/Desktop/SpicedAcademy/spiced_projects/repos/random-rose-student-code/week_2/Milestone_Project-Week2'"
      ]
     },
     "execution_count": 54,
     "metadata": {},
     "output_type": "execute_result"
    }
   ],
   "source": [
    "pwd"
   ]
  },
  {
   "cell_type": "code",
   "execution_count": 55,
   "id": "2a05be8b",
   "metadata": {},
   "outputs": [],
   "source": [
    "y_pred_validation = rf.predict(X_test_FE)"
   ]
  },
  {
   "cell_type": "code",
   "execution_count": 56,
   "id": "6c8442cc",
   "metadata": {},
   "outputs": [
    {
     "name": "stdout",
     "output_type": "stream",
     "text": [
      "              precision    recall  f1-score   support\n",
      "\n",
      "           0       0.81      0.90      0.85       134\n",
      "           1       0.82      0.67      0.74        89\n",
      "\n",
      "    accuracy                           0.81       223\n",
      "   macro avg       0.81      0.79      0.80       223\n",
      "weighted avg       0.81      0.81      0.81       223\n",
      "\n"
     ]
    }
   ],
   "source": [
    "print(classification_report(y_test, y_pred_validation))"
   ]
  },
  {
   "cell_type": "code",
   "execution_count": 57,
   "id": "9fe4f02e",
   "metadata": {},
   "outputs": [
    {
     "data": {
      "text/plain": [
       "'/home/garima/Desktop/SpicedAcademy/spiced_projects/repos/random-rose-student-code/week_2/Milestone_Project-Week2'"
      ]
     },
     "execution_count": 57,
     "metadata": {},
     "output_type": "execute_result"
    }
   ],
   "source": [
    "pwd"
   ]
  },
  {
   "cell_type": "code",
   "execution_count": 58,
   "id": "1a4d2c27",
   "metadata": {},
   "outputs": [],
   "source": [
    "X_test_kaggle = pd.read_csv(\"data/test.csv\",index_col= \"PassengerId\")"
   ]
  },
  {
   "cell_type": "code",
   "execution_count": 59,
   "id": "f0319357",
   "metadata": {},
   "outputs": [],
   "source": [
    "X_test_kaggle[\"Title\"] = X_test_kaggle[\"Name\"].apply(passenger_title)\n",
    "X_test_kaggle.drop(['Name'], axis=1, inplace = True)"
   ]
  },
  {
   "cell_type": "code",
   "execution_count": 60,
   "id": "1401c8ea",
   "metadata": {},
   "outputs": [],
   "source": [
    "X_test_kaggle['Age'] =X_test_kaggle['Age'].fillna(X_test_kaggle.groupby('Title')['Age'].transform('mean'))"
   ]
  },
  {
   "cell_type": "code",
   "execution_count": 61,
   "id": "a34c599b",
   "metadata": {},
   "outputs": [],
   "source": [
    "# drop \"Title column after filling the missing values of age with mean of each group\"\n",
    "X_test_kaggle.drop(['Title'], axis=1, inplace = True)"
   ]
  },
  {
   "cell_type": "code",
   "execution_count": 62,
   "id": "a7df5311",
   "metadata": {},
   "outputs": [],
   "source": [
    "# combine 2 features: Parch and SibSp to a new feature Family\n",
    "X_test_kaggle[\"Family\"] = X_test_kaggle[\"Parch\"] + X_test_kaggle[\"SibSp\"]"
   ]
  },
  {
   "cell_type": "code",
   "execution_count": 63,
   "id": "b0e57e8c",
   "metadata": {},
   "outputs": [],
   "source": [
    "# drop the redundant features\n",
    "X_test_kaggle = X_test_kaggle.drop([\"SibSp\",\"Parch\"], axis=1)"
   ]
  },
  {
   "cell_type": "code",
   "execution_count": 64,
   "id": "325f1694",
   "metadata": {},
   "outputs": [],
   "source": [
    "X_test_kaggle_FE = transformation.transform(X_test_kaggle)"
   ]
  },
  {
   "cell_type": "code",
   "execution_count": 65,
   "id": "eb0914d5",
   "metadata": {},
   "outputs": [],
   "source": [
    "# on the test.csv file i.e. actual test data\n",
    "y_pred = rf.predict(X_test_kaggle_FE)"
   ]
  },
  {
   "cell_type": "code",
   "execution_count": 66,
   "id": "8dc7cfb6",
   "metadata": {},
   "outputs": [
    {
     "data": {
      "text/plain": [
       "array([0, 0, 0, 0, 1, 0, 1, 0, 1, 0, 0, 0, 1, 0, 1, 1, 0, 0, 0, 1, 0, 0,\n",
       "       1, 0, 1, 0, 1, 0, 0, 0, 0, 0, 0, 0, 0, 0, 0, 0, 0, 0, 0, 0, 0, 1,\n",
       "       1, 0, 0, 0, 1, 1, 0, 0, 1, 1, 0, 0, 0, 0, 0, 1, 0, 0, 0, 1, 0, 1,\n",
       "       1, 0, 0, 1, 1, 0, 0, 0, 1, 0, 0, 1, 0, 1, 0, 0, 0, 0, 0, 0, 1, 0,\n",
       "       1, 0, 0, 0, 1, 0, 0, 0, 1, 0, 0, 0, 1, 0, 0, 0, 1, 0, 0, 0, 0, 0,\n",
       "       0, 1, 1, 1, 1, 0, 0, 1, 0, 1, 1, 0, 1, 0, 0, 0, 0, 1, 0, 0, 0, 0,\n",
       "       0, 0, 0, 0, 0, 0, 0, 0, 0, 1, 0, 0, 0, 0, 0, 0, 0, 0, 1, 0, 0, 1,\n",
       "       0, 0, 1, 0, 0, 1, 1, 0, 1, 0, 0, 1, 0, 0, 1, 0, 0, 0, 0, 0, 0, 1,\n",
       "       1, 0, 1, 1, 0, 1, 1, 0, 1, 0, 1, 0, 0, 0, 0, 0, 0, 0, 0, 0, 1, 0,\n",
       "       0, 0, 1, 0, 0, 1, 0, 0, 1, 0, 1, 0, 0, 0, 0, 1, 0, 0, 1, 1, 1, 0,\n",
       "       1, 0, 1, 0, 1, 1, 0, 1, 0, 0, 0, 1, 0, 0, 0, 0, 0, 0, 1, 1, 1, 1,\n",
       "       1, 0, 0, 0, 1, 0, 1, 1, 1, 0, 0, 0, 0, 0, 0, 0, 1, 0, 0, 0, 1, 1,\n",
       "       0, 0, 0, 0, 0, 0, 0, 0, 1, 1, 0, 1, 0, 0, 0, 0, 0, 0, 1, 1, 1, 0,\n",
       "       0, 0, 0, 0, 0, 1, 0, 1, 0, 0, 1, 0, 0, 0, 0, 0, 0, 0, 1, 1, 1, 0,\n",
       "       1, 0, 0, 0, 0, 1, 1, 1, 0, 0, 0, 0, 0, 0, 0, 0, 1, 0, 1, 0, 0, 0,\n",
       "       1, 0, 0, 1, 0, 0, 0, 0, 0, 0, 0, 0, 0, 1, 0, 0, 0, 1, 0, 1, 1, 0,\n",
       "       0, 0, 0, 0, 1, 0, 0, 0, 0, 1, 1, 0, 1, 0, 0, 0, 1, 0, 0, 1, 0, 0,\n",
       "       1, 1, 1, 0, 0, 0, 0, 0, 0, 0, 0, 1, 0, 0, 0, 0, 0, 1, 0, 0, 0, 1,\n",
       "       0, 1, 0, 0, 1, 0, 1, 0, 0, 0, 0, 1, 1, 1, 1, 1, 0, 0, 1, 0, 0, 0])"
      ]
     },
     "execution_count": 66,
     "metadata": {},
     "output_type": "execute_result"
    }
   ],
   "source": [
    "y_pred"
   ]
  },
  {
   "cell_type": "code",
   "execution_count": 67,
   "id": "a3cf3c87",
   "metadata": {},
   "outputs": [],
   "source": [
    "Survived = y_pred"
   ]
  },
  {
   "cell_type": "code",
   "execution_count": 68,
   "id": "13bb6c56",
   "metadata": {},
   "outputs": [],
   "source": [
    "PassengerId= X_test_kaggle.index"
   ]
  },
  {
   "cell_type": "code",
   "execution_count": 69,
   "id": "8d41ed12",
   "metadata": {},
   "outputs": [],
   "source": [
    "# Submit to Kaggle"
   ]
  },
  {
   "cell_type": "code",
   "execution_count": 70,
   "id": "2d11cf8e",
   "metadata": {},
   "outputs": [],
   "source": [
    "kaggle_titanic_submission_gk = pd.DataFrame(data=Survived, index=PassengerId, columns=['Survived'])"
   ]
  },
  {
   "cell_type": "code",
   "execution_count": 71,
   "id": "d51b4b55",
   "metadata": {},
   "outputs": [
    {
     "data": {
      "text/html": [
       "<div>\n",
       "<style scoped>\n",
       "    .dataframe tbody tr th:only-of-type {\n",
       "        vertical-align: middle;\n",
       "    }\n",
       "\n",
       "    .dataframe tbody tr th {\n",
       "        vertical-align: top;\n",
       "    }\n",
       "\n",
       "    .dataframe thead th {\n",
       "        text-align: right;\n",
       "    }\n",
       "</style>\n",
       "<table border=\"1\" class=\"dataframe\">\n",
       "  <thead>\n",
       "    <tr style=\"text-align: right;\">\n",
       "      <th></th>\n",
       "      <th>Survived</th>\n",
       "    </tr>\n",
       "    <tr>\n",
       "      <th>PassengerId</th>\n",
       "      <th></th>\n",
       "    </tr>\n",
       "  </thead>\n",
       "  <tbody>\n",
       "    <tr>\n",
       "      <th>892</th>\n",
       "      <td>0</td>\n",
       "    </tr>\n",
       "    <tr>\n",
       "      <th>893</th>\n",
       "      <td>0</td>\n",
       "    </tr>\n",
       "    <tr>\n",
       "      <th>894</th>\n",
       "      <td>0</td>\n",
       "    </tr>\n",
       "    <tr>\n",
       "      <th>895</th>\n",
       "      <td>0</td>\n",
       "    </tr>\n",
       "    <tr>\n",
       "      <th>896</th>\n",
       "      <td>1</td>\n",
       "    </tr>\n",
       "    <tr>\n",
       "      <th>...</th>\n",
       "      <td>...</td>\n",
       "    </tr>\n",
       "    <tr>\n",
       "      <th>1305</th>\n",
       "      <td>0</td>\n",
       "    </tr>\n",
       "    <tr>\n",
       "      <th>1306</th>\n",
       "      <td>1</td>\n",
       "    </tr>\n",
       "    <tr>\n",
       "      <th>1307</th>\n",
       "      <td>0</td>\n",
       "    </tr>\n",
       "    <tr>\n",
       "      <th>1308</th>\n",
       "      <td>0</td>\n",
       "    </tr>\n",
       "    <tr>\n",
       "      <th>1309</th>\n",
       "      <td>0</td>\n",
       "    </tr>\n",
       "  </tbody>\n",
       "</table>\n",
       "<p>418 rows × 1 columns</p>\n",
       "</div>"
      ],
      "text/plain": [
       "             Survived\n",
       "PassengerId          \n",
       "892                 0\n",
       "893                 0\n",
       "894                 0\n",
       "895                 0\n",
       "896                 1\n",
       "...               ...\n",
       "1305                0\n",
       "1306                1\n",
       "1307                0\n",
       "1308                0\n",
       "1309                0\n",
       "\n",
       "[418 rows x 1 columns]"
      ]
     },
     "execution_count": 71,
     "metadata": {},
     "output_type": "execute_result"
    }
   ],
   "source": [
    "kaggle_titanic_submission_gk"
   ]
  },
  {
   "cell_type": "code",
   "execution_count": 72,
   "id": "e7f46d02",
   "metadata": {},
   "outputs": [
    {
     "data": {
      "text/plain": [
       "'/home/garima/Desktop/SpicedAcademy/spiced_projects/repos/random-rose-student-code/week_2/Milestone_Project-Week2'"
      ]
     },
     "execution_count": 72,
     "metadata": {},
     "output_type": "execute_result"
    }
   ],
   "source": [
    "pwd"
   ]
  },
  {
   "cell_type": "code",
   "execution_count": 73,
   "id": "f9198986",
   "metadata": {},
   "outputs": [],
   "source": [
    "kaggle_titanic_submission_gk.to_csv(\"kaggle_titanic_submission_gk.csv\")  "
   ]
  },
  {
   "cell_type": "code",
   "execution_count": null,
   "id": "6ba44949",
   "metadata": {},
   "outputs": [],
   "source": []
  }
 ],
 "metadata": {
  "kernelspec": {
   "display_name": "Python 3 (ipykernel)",
   "language": "python",
   "name": "python3"
  },
  "language_info": {
   "codemirror_mode": {
    "name": "ipython",
    "version": 3
   },
   "file_extension": ".py",
   "mimetype": "text/x-python",
   "name": "python",
   "nbconvert_exporter": "python",
   "pygments_lexer": "ipython3",
   "version": "3.9.12"
  }
 },
 "nbformat": 4,
 "nbformat_minor": 5
}
