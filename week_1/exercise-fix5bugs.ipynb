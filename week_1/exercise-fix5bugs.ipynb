{
 "cells": [
  {
   "cell_type": "markdown",
   "id": "12d3c9b1",
   "metadata": {},
   "source": [
    "import pandas\n",
    "\n",
    "spices = ['One-Hot Chili Peppers',\n",
    "          'Bayesian Basil',\n",
    "          'Tensor Thyme'\n",
    "          'Linear Lavender',\n",
    "          'Artificial Neural Nutmeg',\n",
    "          'Polynomial Peppermint',\n",
    "          'Sigmoid Saffron'\n",
    "          ]\n",
    "participants = [2, 6, 9, 9, 9, 8]\n",
    "\n",
    "df = pd.DataFrame({'name': spices,\n",
    "                   'participants': participants\n",
    "                   })\n",
    "\n",
    "print(sort_values(by='participants', ascending=False))\n",
    "\n",
    "print(\"\\ntotal participants:\", df.sum(['participants']))"
   ]
  },
  {
   "cell_type": "code",
   "execution_count": 10,
   "id": "a156f4a1",
   "metadata": {},
   "outputs": [],
   "source": [
    "import pandas as pd"
   ]
  },
  {
   "cell_type": "code",
   "execution_count": 11,
   "id": "8e2eda7e",
   "metadata": {},
   "outputs": [],
   "source": [
    "spices = ['One-Hot Chili Peppers',\n",
    "          'Bayesian Basil',\n",
    "          'Tensor Thyme'\n",
    "          'Linear Lavender',\n",
    "          'Artificial Neural Nutmeg',\n",
    "          'Polynomial Peppermint',\n",
    "          'Sigmoid Saffron'\n",
    "          ]\n",
    "participants = [2, 6, 9, 9, 9, 8]"
   ]
  },
  {
   "cell_type": "code",
   "execution_count": 12,
   "id": "8e288cd3",
   "metadata": {},
   "outputs": [],
   "source": [
    "df = pd.DataFrame({'name': spices,\n",
    "                   'participants': participants\n",
    "                   })"
   ]
  },
  {
   "cell_type": "code",
   "execution_count": 13,
   "id": "7802e7fb",
   "metadata": {},
   "outputs": [
    {
     "data": {
      "text/html": [
       "<div>\n",
       "<style scoped>\n",
       "    .dataframe tbody tr th:only-of-type {\n",
       "        vertical-align: middle;\n",
       "    }\n",
       "\n",
       "    .dataframe tbody tr th {\n",
       "        vertical-align: top;\n",
       "    }\n",
       "\n",
       "    .dataframe thead th {\n",
       "        text-align: right;\n",
       "    }\n",
       "</style>\n",
       "<table border=\"1\" class=\"dataframe\">\n",
       "  <thead>\n",
       "    <tr style=\"text-align: right;\">\n",
       "      <th></th>\n",
       "      <th>name</th>\n",
       "      <th>participants</th>\n",
       "    </tr>\n",
       "  </thead>\n",
       "  <tbody>\n",
       "    <tr>\n",
       "      <th>0</th>\n",
       "      <td>One-Hot Chili Peppers</td>\n",
       "      <td>2</td>\n",
       "    </tr>\n",
       "    <tr>\n",
       "      <th>1</th>\n",
       "      <td>Bayesian Basil</td>\n",
       "      <td>6</td>\n",
       "    </tr>\n",
       "    <tr>\n",
       "      <th>2</th>\n",
       "      <td>Tensor ThymeLinear Lavender</td>\n",
       "      <td>9</td>\n",
       "    </tr>\n",
       "    <tr>\n",
       "      <th>3</th>\n",
       "      <td>Artificial Neural Nutmeg</td>\n",
       "      <td>9</td>\n",
       "    </tr>\n",
       "    <tr>\n",
       "      <th>4</th>\n",
       "      <td>Polynomial Peppermint</td>\n",
       "      <td>9</td>\n",
       "    </tr>\n",
       "    <tr>\n",
       "      <th>5</th>\n",
       "      <td>Sigmoid Saffron</td>\n",
       "      <td>8</td>\n",
       "    </tr>\n",
       "  </tbody>\n",
       "</table>\n",
       "</div>"
      ],
      "text/plain": [
       "                          name  participants\n",
       "0        One-Hot Chili Peppers             2\n",
       "1               Bayesian Basil             6\n",
       "2  Tensor ThymeLinear Lavender             9\n",
       "3     Artificial Neural Nutmeg             9\n",
       "4        Polynomial Peppermint             9\n",
       "5              Sigmoid Saffron             8"
      ]
     },
     "execution_count": 13,
     "metadata": {},
     "output_type": "execute_result"
    }
   ],
   "source": [
    "df"
   ]
  },
  {
   "cell_type": "code",
   "execution_count": 14,
   "id": "e695ca91",
   "metadata": {},
   "outputs": [
    {
     "name": "stdout",
     "output_type": "stream",
     "text": [
      "                          name  participants\n",
      "2  Tensor ThymeLinear Lavender             9\n",
      "3     Artificial Neural Nutmeg             9\n",
      "4        Polynomial Peppermint             9\n",
      "5              Sigmoid Saffron             8\n",
      "1               Bayesian Basil             6\n",
      "0        One-Hot Chili Peppers             2\n"
     ]
    }
   ],
   "source": [
    "print(df.sort_values(by=['participants'], ascending=False))\n"
   ]
  },
  {
   "cell_type": "code",
   "execution_count": 15,
   "id": "3e320abc",
   "metadata": {},
   "outputs": [
    {
     "name": "stdout",
     "output_type": "stream",
     "text": [
      "\n",
      "total participants: 43\n"
     ]
    }
   ],
   "source": [
    "print(\"\\ntotal participants:\", sum(df['participants']))"
   ]
  },
  {
   "cell_type": "code",
   "execution_count": null,
   "id": "bfd6767b",
   "metadata": {},
   "outputs": [],
   "source": []
  },
  {
   "cell_type": "code",
   "execution_count": null,
   "id": "f163d728",
   "metadata": {},
   "outputs": [],
   "source": []
  }
 ],
 "metadata": {
  "kernelspec": {
   "display_name": "Python 3 (ipykernel)",
   "language": "python",
   "name": "python3"
  },
  "language_info": {
   "codemirror_mode": {
    "name": "ipython",
    "version": 3
   },
   "file_extension": ".py",
   "mimetype": "text/x-python",
   "name": "python",
   "nbconvert_exporter": "python",
   "pygments_lexer": "ipython3",
   "version": "3.9.12"
  }
 },
 "nbformat": 4,
 "nbformat_minor": 5
}
